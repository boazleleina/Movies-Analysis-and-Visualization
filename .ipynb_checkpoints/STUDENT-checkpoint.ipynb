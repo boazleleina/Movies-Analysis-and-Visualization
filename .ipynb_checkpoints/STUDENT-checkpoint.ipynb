{
 "cells": [
  {
   "cell_type": "markdown",
   "metadata": {},
   "source": [
    "# INTRODUCTION\n",
    "This notebook uses dataset from IMDb, Box Office Mojo, and The Movie Database (TMDb) to give analysis for Microsoft's new movie studio. The notebooks had the following names and information.\n",
    "\n",
    "1. title.basics.csv\n",
    "    - tconst : alphanumeric unique identifier of the title\t\n",
    "    - primary_title\t: the more popular title / the title used by the filmmakers on promotional materials at the point of release\n",
    "    - original_title: original title, in the original language\t\n",
    "    - start_year: represents the release year of a title. In the case of TV Series, it is the series start year\n",
    "    - runtime_minutes: primary runtime of the title, in minutes\n",
    "    - genres: includes up to three genres associated with the title\n",
    "2. tmdb.movies.csv\n",
    "    - Unnamed: 0\t\n",
    "    - genre_ids\t\n",
    "    - id\t\n",
    "    - original_language\t\n",
    "    - original_title\t\n",
    "    - popularity\t\n",
    "    - release_date\t\n",
    "    - title\t\n",
    "    - vote_average\t\n",
    "    - vote_count\n",
    "3. tn.movie_budgets.csv\n",
    "    - id\t\n",
    "    - release_date\t\n",
    "    - movie\t\n",
    "    - production_budget\t\n",
    "    - domestic_gross\t\n",
    "    - worldwide_gross\n"
   ]
  },
  {
   "cell_type": "code",
   "execution_count": 1,
   "metadata": {},
   "outputs": [],
   "source": [
    "import pandas as pd\n",
    "import matplotlib.pyplot as plt\n",
    "import numpy as np\n",
    "import seaborn as sns\n",
    "%matplotlib inline\n"
   ]
  },
  {
   "cell_type": "code",
   "execution_count": 2,
   "metadata": {},
   "outputs": [],
   "source": [
    "df1 = pd.read_csv(\"title.basics.csv\")\n",
    "df2 = pd.read_csv(\"tmdb.movies.csv\")\n",
    "df3 = pd.read_csv(\"tn.movie_budgets.csv\")"
   ]
  },
  {
   "cell_type": "code",
   "execution_count": 3,
   "metadata": {},
   "outputs": [
    {
     "data": {
      "text/html": [
       "<div>\n",
       "<style scoped>\n",
       "    .dataframe tbody tr th:only-of-type {\n",
       "        vertical-align: middle;\n",
       "    }\n",
       "\n",
       "    .dataframe tbody tr th {\n",
       "        vertical-align: top;\n",
       "    }\n",
       "\n",
       "    .dataframe thead th {\n",
       "        text-align: right;\n",
       "    }\n",
       "</style>\n",
       "<table border=\"1\" class=\"dataframe\">\n",
       "  <thead>\n",
       "    <tr style=\"text-align: right;\">\n",
       "      <th></th>\n",
       "      <th>tconst</th>\n",
       "      <th>primary_title</th>\n",
       "      <th>original_title</th>\n",
       "      <th>start_year</th>\n",
       "      <th>runtime_minutes</th>\n",
       "      <th>genres</th>\n",
       "    </tr>\n",
       "  </thead>\n",
       "  <tbody>\n",
       "    <tr>\n",
       "      <th>0</th>\n",
       "      <td>tt0063540</td>\n",
       "      <td>Sunghursh</td>\n",
       "      <td>Sunghursh</td>\n",
       "      <td>2013</td>\n",
       "      <td>175.0</td>\n",
       "      <td>Action,Crime,Drama</td>\n",
       "    </tr>\n",
       "    <tr>\n",
       "      <th>1</th>\n",
       "      <td>tt0066787</td>\n",
       "      <td>One Day Before the Rainy Season</td>\n",
       "      <td>Ashad Ka Ek Din</td>\n",
       "      <td>2019</td>\n",
       "      <td>114.0</td>\n",
       "      <td>Biography,Drama</td>\n",
       "    </tr>\n",
       "    <tr>\n",
       "      <th>2</th>\n",
       "      <td>tt0069049</td>\n",
       "      <td>The Other Side of the Wind</td>\n",
       "      <td>The Other Side of the Wind</td>\n",
       "      <td>2018</td>\n",
       "      <td>122.0</td>\n",
       "      <td>Drama</td>\n",
       "    </tr>\n",
       "    <tr>\n",
       "      <th>3</th>\n",
       "      <td>tt0069204</td>\n",
       "      <td>Sabse Bada Sukh</td>\n",
       "      <td>Sabse Bada Sukh</td>\n",
       "      <td>2018</td>\n",
       "      <td>NaN</td>\n",
       "      <td>Comedy,Drama</td>\n",
       "    </tr>\n",
       "    <tr>\n",
       "      <th>4</th>\n",
       "      <td>tt0100275</td>\n",
       "      <td>The Wandering Soap Opera</td>\n",
       "      <td>La Telenovela Errante</td>\n",
       "      <td>2017</td>\n",
       "      <td>80.0</td>\n",
       "      <td>Comedy,Drama,Fantasy</td>\n",
       "    </tr>\n",
       "  </tbody>\n",
       "</table>\n",
       "</div>"
      ],
      "text/plain": [
       "      tconst                    primary_title              original_title  \\\n",
       "0  tt0063540                        Sunghursh                   Sunghursh   \n",
       "1  tt0066787  One Day Before the Rainy Season             Ashad Ka Ek Din   \n",
       "2  tt0069049       The Other Side of the Wind  The Other Side of the Wind   \n",
       "3  tt0069204                  Sabse Bada Sukh             Sabse Bada Sukh   \n",
       "4  tt0100275         The Wandering Soap Opera       La Telenovela Errante   \n",
       "\n",
       "   start_year  runtime_minutes                genres  \n",
       "0        2013            175.0    Action,Crime,Drama  \n",
       "1        2019            114.0       Biography,Drama  \n",
       "2        2018            122.0                 Drama  \n",
       "3        2018              NaN          Comedy,Drama  \n",
       "4        2017             80.0  Comedy,Drama,Fantasy  "
      ]
     },
     "execution_count": 3,
     "metadata": {},
     "output_type": "execute_result"
    }
   ],
   "source": [
    "df1.head()"
   ]
  },
  {
   "cell_type": "code",
   "execution_count": 4,
   "metadata": {},
   "outputs": [
    {
     "data": {
      "text/html": [
       "<div>\n",
       "<style scoped>\n",
       "    .dataframe tbody tr th:only-of-type {\n",
       "        vertical-align: middle;\n",
       "    }\n",
       "\n",
       "    .dataframe tbody tr th {\n",
       "        vertical-align: top;\n",
       "    }\n",
       "\n",
       "    .dataframe thead th {\n",
       "        text-align: right;\n",
       "    }\n",
       "</style>\n",
       "<table border=\"1\" class=\"dataframe\">\n",
       "  <thead>\n",
       "    <tr style=\"text-align: right;\">\n",
       "      <th></th>\n",
       "      <th>Unnamed: 0</th>\n",
       "      <th>genre_ids</th>\n",
       "      <th>id</th>\n",
       "      <th>original_language</th>\n",
       "      <th>original_title</th>\n",
       "      <th>popularity</th>\n",
       "      <th>release_date</th>\n",
       "      <th>title</th>\n",
       "      <th>vote_average</th>\n",
       "      <th>vote_count</th>\n",
       "    </tr>\n",
       "  </thead>\n",
       "  <tbody>\n",
       "    <tr>\n",
       "      <th>0</th>\n",
       "      <td>0</td>\n",
       "      <td>[12, 14, 10751]</td>\n",
       "      <td>12444</td>\n",
       "      <td>en</td>\n",
       "      <td>Harry Potter and the Deathly Hallows: Part 1</td>\n",
       "      <td>33.533</td>\n",
       "      <td>2010-11-19</td>\n",
       "      <td>Harry Potter and the Deathly Hallows: Part 1</td>\n",
       "      <td>7.7</td>\n",
       "      <td>10788</td>\n",
       "    </tr>\n",
       "    <tr>\n",
       "      <th>1</th>\n",
       "      <td>1</td>\n",
       "      <td>[14, 12, 16, 10751]</td>\n",
       "      <td>10191</td>\n",
       "      <td>en</td>\n",
       "      <td>How to Train Your Dragon</td>\n",
       "      <td>28.734</td>\n",
       "      <td>2010-03-26</td>\n",
       "      <td>How to Train Your Dragon</td>\n",
       "      <td>7.7</td>\n",
       "      <td>7610</td>\n",
       "    </tr>\n",
       "    <tr>\n",
       "      <th>2</th>\n",
       "      <td>2</td>\n",
       "      <td>[12, 28, 878]</td>\n",
       "      <td>10138</td>\n",
       "      <td>en</td>\n",
       "      <td>Iron Man 2</td>\n",
       "      <td>28.515</td>\n",
       "      <td>2010-05-07</td>\n",
       "      <td>Iron Man 2</td>\n",
       "      <td>6.8</td>\n",
       "      <td>12368</td>\n",
       "    </tr>\n",
       "    <tr>\n",
       "      <th>3</th>\n",
       "      <td>3</td>\n",
       "      <td>[16, 35, 10751]</td>\n",
       "      <td>862</td>\n",
       "      <td>en</td>\n",
       "      <td>Toy Story</td>\n",
       "      <td>28.005</td>\n",
       "      <td>1995-11-22</td>\n",
       "      <td>Toy Story</td>\n",
       "      <td>7.9</td>\n",
       "      <td>10174</td>\n",
       "    </tr>\n",
       "    <tr>\n",
       "      <th>4</th>\n",
       "      <td>4</td>\n",
       "      <td>[28, 878, 12]</td>\n",
       "      <td>27205</td>\n",
       "      <td>en</td>\n",
       "      <td>Inception</td>\n",
       "      <td>27.920</td>\n",
       "      <td>2010-07-16</td>\n",
       "      <td>Inception</td>\n",
       "      <td>8.3</td>\n",
       "      <td>22186</td>\n",
       "    </tr>\n",
       "  </tbody>\n",
       "</table>\n",
       "</div>"
      ],
      "text/plain": [
       "   Unnamed: 0            genre_ids     id original_language  \\\n",
       "0           0      [12, 14, 10751]  12444                en   \n",
       "1           1  [14, 12, 16, 10751]  10191                en   \n",
       "2           2        [12, 28, 878]  10138                en   \n",
       "3           3      [16, 35, 10751]    862                en   \n",
       "4           4        [28, 878, 12]  27205                en   \n",
       "\n",
       "                                 original_title  popularity release_date  \\\n",
       "0  Harry Potter and the Deathly Hallows: Part 1      33.533   2010-11-19   \n",
       "1                      How to Train Your Dragon      28.734   2010-03-26   \n",
       "2                                    Iron Man 2      28.515   2010-05-07   \n",
       "3                                     Toy Story      28.005   1995-11-22   \n",
       "4                                     Inception      27.920   2010-07-16   \n",
       "\n",
       "                                          title  vote_average  vote_count  \n",
       "0  Harry Potter and the Deathly Hallows: Part 1           7.7       10788  \n",
       "1                      How to Train Your Dragon           7.7        7610  \n",
       "2                                    Iron Man 2           6.8       12368  \n",
       "3                                     Toy Story           7.9       10174  \n",
       "4                                     Inception           8.3       22186  "
      ]
     },
     "execution_count": 4,
     "metadata": {},
     "output_type": "execute_result"
    }
   ],
   "source": [
    "df2.head()"
   ]
  },
  {
   "cell_type": "code",
   "execution_count": 5,
   "metadata": {},
   "outputs": [
    {
     "data": {
      "text/html": [
       "<div>\n",
       "<style scoped>\n",
       "    .dataframe tbody tr th:only-of-type {\n",
       "        vertical-align: middle;\n",
       "    }\n",
       "\n",
       "    .dataframe tbody tr th {\n",
       "        vertical-align: top;\n",
       "    }\n",
       "\n",
       "    .dataframe thead th {\n",
       "        text-align: right;\n",
       "    }\n",
       "</style>\n",
       "<table border=\"1\" class=\"dataframe\">\n",
       "  <thead>\n",
       "    <tr style=\"text-align: right;\">\n",
       "      <th></th>\n",
       "      <th>id</th>\n",
       "      <th>release_date</th>\n",
       "      <th>movie</th>\n",
       "      <th>production_budget</th>\n",
       "      <th>domestic_gross</th>\n",
       "      <th>worldwide_gross</th>\n",
       "    </tr>\n",
       "  </thead>\n",
       "  <tbody>\n",
       "    <tr>\n",
       "      <th>0</th>\n",
       "      <td>1</td>\n",
       "      <td>Dec 18, 2009</td>\n",
       "      <td>Avatar</td>\n",
       "      <td>$425,000,000</td>\n",
       "      <td>$760,507,625</td>\n",
       "      <td>$2,776,345,279</td>\n",
       "    </tr>\n",
       "    <tr>\n",
       "      <th>1</th>\n",
       "      <td>2</td>\n",
       "      <td>May 20, 2011</td>\n",
       "      <td>Pirates of the Caribbean: On Stranger Tides</td>\n",
       "      <td>$410,600,000</td>\n",
       "      <td>$241,063,875</td>\n",
       "      <td>$1,045,663,875</td>\n",
       "    </tr>\n",
       "    <tr>\n",
       "      <th>2</th>\n",
       "      <td>3</td>\n",
       "      <td>Jun 7, 2019</td>\n",
       "      <td>Dark Phoenix</td>\n",
       "      <td>$350,000,000</td>\n",
       "      <td>$42,762,350</td>\n",
       "      <td>$149,762,350</td>\n",
       "    </tr>\n",
       "    <tr>\n",
       "      <th>3</th>\n",
       "      <td>4</td>\n",
       "      <td>May 1, 2015</td>\n",
       "      <td>Avengers: Age of Ultron</td>\n",
       "      <td>$330,600,000</td>\n",
       "      <td>$459,005,868</td>\n",
       "      <td>$1,403,013,963</td>\n",
       "    </tr>\n",
       "    <tr>\n",
       "      <th>4</th>\n",
       "      <td>5</td>\n",
       "      <td>Dec 15, 2017</td>\n",
       "      <td>Star Wars Ep. VIII: The Last Jedi</td>\n",
       "      <td>$317,000,000</td>\n",
       "      <td>$620,181,382</td>\n",
       "      <td>$1,316,721,747</td>\n",
       "    </tr>\n",
       "  </tbody>\n",
       "</table>\n",
       "</div>"
      ],
      "text/plain": [
       "   id  release_date                                        movie  \\\n",
       "0   1  Dec 18, 2009                                       Avatar   \n",
       "1   2  May 20, 2011  Pirates of the Caribbean: On Stranger Tides   \n",
       "2   3   Jun 7, 2019                                 Dark Phoenix   \n",
       "3   4   May 1, 2015                      Avengers: Age of Ultron   \n",
       "4   5  Dec 15, 2017            Star Wars Ep. VIII: The Last Jedi   \n",
       "\n",
       "  production_budget domestic_gross worldwide_gross  \n",
       "0      $425,000,000   $760,507,625  $2,776,345,279  \n",
       "1      $410,600,000   $241,063,875  $1,045,663,875  \n",
       "2      $350,000,000    $42,762,350    $149,762,350  \n",
       "3      $330,600,000   $459,005,868  $1,403,013,963  \n",
       "4      $317,000,000   $620,181,382  $1,316,721,747  "
      ]
     },
     "execution_count": 5,
     "metadata": {},
     "output_type": "execute_result"
    }
   ],
   "source": [
    "df3.head()"
   ]
  },
  {
   "cell_type": "markdown",
   "metadata": {},
   "source": [
    "# Cleaning the first database(Title Basics)\n",
    "\n",
    "df1 = title.basics.csv"
   ]
  },
  {
   "cell_type": "code",
   "execution_count": 6,
   "metadata": {},
   "outputs": [
    {
     "name": "stdout",
     "output_type": "stream",
     "text": [
      "<class 'pandas.core.frame.DataFrame'>\n",
      "RangeIndex: 146144 entries, 0 to 146143\n",
      "Data columns (total 6 columns):\n",
      " #   Column           Non-Null Count   Dtype  \n",
      "---  ------           --------------   -----  \n",
      " 0   tconst           146144 non-null  object \n",
      " 1   primary_title    146144 non-null  object \n",
      " 2   original_title   146123 non-null  object \n",
      " 3   start_year       146144 non-null  int64  \n",
      " 4   runtime_minutes  114405 non-null  float64\n",
      " 5   genres           140736 non-null  object \n",
      "dtypes: float64(1), int64(1), object(4)\n",
      "memory usage: 6.7+ MB\n"
     ]
    }
   ],
   "source": [
    "df1.info()"
   ]
  },
  {
   "cell_type": "code",
   "execution_count": 7,
   "metadata": {},
   "outputs": [],
   "source": [
    "#drop runtime_minutes, original_title and stat_year\n",
    "df1 = df1.drop(['runtime_minutes', 'tconst', 'original_title', 'start_year'],axis = 1)"
   ]
  },
  {
   "cell_type": "code",
   "execution_count": 8,
   "metadata": {},
   "outputs": [
    {
     "name": "stdout",
     "output_type": "stream",
     "text": [
      "<class 'pandas.core.frame.DataFrame'>\n",
      "RangeIndex: 146144 entries, 0 to 146143\n",
      "Data columns (total 2 columns):\n",
      " #   Column         Non-Null Count   Dtype \n",
      "---  ------         --------------   ----- \n",
      " 0   primary_title  146144 non-null  object\n",
      " 1   genres         140736 non-null  object\n",
      "dtypes: object(2)\n",
      "memory usage: 2.2+ MB\n"
     ]
    }
   ],
   "source": [
    "df1.info()"
   ]
  },
  {
   "cell_type": "code",
   "execution_count": 9,
   "metadata": {},
   "outputs": [],
   "source": [
    "#convert primary_title to small letter for consistency\n",
    "df1['primary_title'] = df1['primary_title'].str.lower()"
   ]
  },
  {
   "cell_type": "code",
   "execution_count": 10,
   "metadata": {},
   "outputs": [
    {
     "data": {
      "text/html": [
       "<div>\n",
       "<style scoped>\n",
       "    .dataframe tbody tr th:only-of-type {\n",
       "        vertical-align: middle;\n",
       "    }\n",
       "\n",
       "    .dataframe tbody tr th {\n",
       "        vertical-align: top;\n",
       "    }\n",
       "\n",
       "    .dataframe thead th {\n",
       "        text-align: right;\n",
       "    }\n",
       "</style>\n",
       "<table border=\"1\" class=\"dataframe\">\n",
       "  <thead>\n",
       "    <tr style=\"text-align: right;\">\n",
       "      <th></th>\n",
       "      <th>primary_title</th>\n",
       "      <th>genres</th>\n",
       "    </tr>\n",
       "  </thead>\n",
       "  <tbody>\n",
       "    <tr>\n",
       "      <th>0</th>\n",
       "      <td>sunghursh</td>\n",
       "      <td>Action,Crime,Drama</td>\n",
       "    </tr>\n",
       "    <tr>\n",
       "      <th>1</th>\n",
       "      <td>one day before the rainy season</td>\n",
       "      <td>Biography,Drama</td>\n",
       "    </tr>\n",
       "    <tr>\n",
       "      <th>2</th>\n",
       "      <td>the other side of the wind</td>\n",
       "      <td>Drama</td>\n",
       "    </tr>\n",
       "    <tr>\n",
       "      <th>3</th>\n",
       "      <td>sabse bada sukh</td>\n",
       "      <td>Comedy,Drama</td>\n",
       "    </tr>\n",
       "    <tr>\n",
       "      <th>4</th>\n",
       "      <td>the wandering soap opera</td>\n",
       "      <td>Comedy,Drama,Fantasy</td>\n",
       "    </tr>\n",
       "  </tbody>\n",
       "</table>\n",
       "</div>"
      ],
      "text/plain": [
       "                     primary_title                genres\n",
       "0                        sunghursh    Action,Crime,Drama\n",
       "1  one day before the rainy season       Biography,Drama\n",
       "2       the other side of the wind                 Drama\n",
       "3                  sabse bada sukh          Comedy,Drama\n",
       "4         the wandering soap opera  Comedy,Drama,Fantasy"
      ]
     },
     "execution_count": 10,
     "metadata": {},
     "output_type": "execute_result"
    }
   ],
   "source": [
    "df1.head()"
   ]
  },
  {
   "cell_type": "code",
   "execution_count": 11,
   "metadata": {},
   "outputs": [
    {
     "data": {
      "text/plain": [
       "5408"
      ]
     },
     "execution_count": 11,
     "metadata": {},
     "output_type": "execute_result"
    }
   ],
   "source": [
    "#count null value\n",
    "df1.isna().sum().sum()"
   ]
  },
  {
   "cell_type": "code",
   "execution_count": 12,
   "metadata": {},
   "outputs": [],
   "source": [
    "#drop null values\n",
    "df1.dropna(inplace = True)"
   ]
  },
  {
   "cell_type": "code",
   "execution_count": 13,
   "metadata": {},
   "outputs": [],
   "source": [
    "#drop any duplicate values\n",
    "df1 = df1.drop_duplicates(subset=None, keep='first')"
   ]
  },
  {
   "cell_type": "code",
   "execution_count": 14,
   "metadata": {},
   "outputs": [
    {
     "name": "stdout",
     "output_type": "stream",
     "text": [
      "<class 'pandas.core.frame.DataFrame'>\n",
      "Int64Index: 139059 entries, 0 to 146143\n",
      "Data columns (total 2 columns):\n",
      " #   Column         Non-Null Count   Dtype \n",
      "---  ------         --------------   ----- \n",
      " 0   primary_title  139059 non-null  object\n",
      " 1   genres         139059 non-null  object\n",
      "dtypes: object(2)\n",
      "memory usage: 3.2+ MB\n"
     ]
    }
   ],
   "source": [
    "df1.info()"
   ]
  },
  {
   "cell_type": "code",
   "execution_count": 15,
   "metadata": {},
   "outputs": [],
   "source": [
    "#genres with mulitple columns can be combined to multiple\n",
    "df1.loc[df1[\"genres\"].str.contains(\",\"),\"genres\"] = 'multiple_gen'"
   ]
  },
  {
   "cell_type": "code",
   "execution_count": 16,
   "metadata": {},
   "outputs": [
    {
     "data": {
      "text/html": [
       "<div>\n",
       "<style scoped>\n",
       "    .dataframe tbody tr th:only-of-type {\n",
       "        vertical-align: middle;\n",
       "    }\n",
       "\n",
       "    .dataframe tbody tr th {\n",
       "        vertical-align: top;\n",
       "    }\n",
       "\n",
       "    .dataframe thead th {\n",
       "        text-align: right;\n",
       "    }\n",
       "</style>\n",
       "<table border=\"1\" class=\"dataframe\">\n",
       "  <thead>\n",
       "    <tr style=\"text-align: right;\">\n",
       "      <th></th>\n",
       "      <th>primary_title</th>\n",
       "      <th>genres</th>\n",
       "    </tr>\n",
       "  </thead>\n",
       "  <tbody>\n",
       "    <tr>\n",
       "      <th>0</th>\n",
       "      <td>sunghursh</td>\n",
       "      <td>multiple_gen</td>\n",
       "    </tr>\n",
       "    <tr>\n",
       "      <th>1</th>\n",
       "      <td>one day before the rainy season</td>\n",
       "      <td>multiple_gen</td>\n",
       "    </tr>\n",
       "    <tr>\n",
       "      <th>2</th>\n",
       "      <td>the other side of the wind</td>\n",
       "      <td>Drama</td>\n",
       "    </tr>\n",
       "    <tr>\n",
       "      <th>3</th>\n",
       "      <td>sabse bada sukh</td>\n",
       "      <td>multiple_gen</td>\n",
       "    </tr>\n",
       "    <tr>\n",
       "      <th>4</th>\n",
       "      <td>the wandering soap opera</td>\n",
       "      <td>multiple_gen</td>\n",
       "    </tr>\n",
       "  </tbody>\n",
       "</table>\n",
       "</div>"
      ],
      "text/plain": [
       "                     primary_title        genres\n",
       "0                        sunghursh  multiple_gen\n",
       "1  one day before the rainy season  multiple_gen\n",
       "2       the other side of the wind         Drama\n",
       "3                  sabse bada sukh  multiple_gen\n",
       "4         the wandering soap opera  multiple_gen"
      ]
     },
     "execution_count": 16,
     "metadata": {},
     "output_type": "execute_result"
    }
   ],
   "source": [
    "df1.head()"
   ]
  },
  {
   "cell_type": "markdown",
   "metadata": {},
   "source": [
    "# Cleaning the second dataset (tmdb movies)\n",
    "df2 = tmdb.movies.csv"
   ]
  },
  {
   "cell_type": "code",
   "execution_count": 17,
   "metadata": {},
   "outputs": [
    {
     "data": {
      "text/html": [
       "<div>\n",
       "<style scoped>\n",
       "    .dataframe tbody tr th:only-of-type {\n",
       "        vertical-align: middle;\n",
       "    }\n",
       "\n",
       "    .dataframe tbody tr th {\n",
       "        vertical-align: top;\n",
       "    }\n",
       "\n",
       "    .dataframe thead th {\n",
       "        text-align: right;\n",
       "    }\n",
       "</style>\n",
       "<table border=\"1\" class=\"dataframe\">\n",
       "  <thead>\n",
       "    <tr style=\"text-align: right;\">\n",
       "      <th></th>\n",
       "      <th>Unnamed: 0</th>\n",
       "      <th>genre_ids</th>\n",
       "      <th>id</th>\n",
       "      <th>original_language</th>\n",
       "      <th>original_title</th>\n",
       "      <th>popularity</th>\n",
       "      <th>release_date</th>\n",
       "      <th>title</th>\n",
       "      <th>vote_average</th>\n",
       "      <th>vote_count</th>\n",
       "    </tr>\n",
       "  </thead>\n",
       "  <tbody>\n",
       "    <tr>\n",
       "      <th>0</th>\n",
       "      <td>0</td>\n",
       "      <td>[12, 14, 10751]</td>\n",
       "      <td>12444</td>\n",
       "      <td>en</td>\n",
       "      <td>Harry Potter and the Deathly Hallows: Part 1</td>\n",
       "      <td>33.533</td>\n",
       "      <td>2010-11-19</td>\n",
       "      <td>Harry Potter and the Deathly Hallows: Part 1</td>\n",
       "      <td>7.7</td>\n",
       "      <td>10788</td>\n",
       "    </tr>\n",
       "    <tr>\n",
       "      <th>1</th>\n",
       "      <td>1</td>\n",
       "      <td>[14, 12, 16, 10751]</td>\n",
       "      <td>10191</td>\n",
       "      <td>en</td>\n",
       "      <td>How to Train Your Dragon</td>\n",
       "      <td>28.734</td>\n",
       "      <td>2010-03-26</td>\n",
       "      <td>How to Train Your Dragon</td>\n",
       "      <td>7.7</td>\n",
       "      <td>7610</td>\n",
       "    </tr>\n",
       "    <tr>\n",
       "      <th>2</th>\n",
       "      <td>2</td>\n",
       "      <td>[12, 28, 878]</td>\n",
       "      <td>10138</td>\n",
       "      <td>en</td>\n",
       "      <td>Iron Man 2</td>\n",
       "      <td>28.515</td>\n",
       "      <td>2010-05-07</td>\n",
       "      <td>Iron Man 2</td>\n",
       "      <td>6.8</td>\n",
       "      <td>12368</td>\n",
       "    </tr>\n",
       "    <tr>\n",
       "      <th>3</th>\n",
       "      <td>3</td>\n",
       "      <td>[16, 35, 10751]</td>\n",
       "      <td>862</td>\n",
       "      <td>en</td>\n",
       "      <td>Toy Story</td>\n",
       "      <td>28.005</td>\n",
       "      <td>1995-11-22</td>\n",
       "      <td>Toy Story</td>\n",
       "      <td>7.9</td>\n",
       "      <td>10174</td>\n",
       "    </tr>\n",
       "    <tr>\n",
       "      <th>4</th>\n",
       "      <td>4</td>\n",
       "      <td>[28, 878, 12]</td>\n",
       "      <td>27205</td>\n",
       "      <td>en</td>\n",
       "      <td>Inception</td>\n",
       "      <td>27.920</td>\n",
       "      <td>2010-07-16</td>\n",
       "      <td>Inception</td>\n",
       "      <td>8.3</td>\n",
       "      <td>22186</td>\n",
       "    </tr>\n",
       "  </tbody>\n",
       "</table>\n",
       "</div>"
      ],
      "text/plain": [
       "   Unnamed: 0            genre_ids     id original_language  \\\n",
       "0           0      [12, 14, 10751]  12444                en   \n",
       "1           1  [14, 12, 16, 10751]  10191                en   \n",
       "2           2        [12, 28, 878]  10138                en   \n",
       "3           3      [16, 35, 10751]    862                en   \n",
       "4           4        [28, 878, 12]  27205                en   \n",
       "\n",
       "                                 original_title  popularity release_date  \\\n",
       "0  Harry Potter and the Deathly Hallows: Part 1      33.533   2010-11-19   \n",
       "1                      How to Train Your Dragon      28.734   2010-03-26   \n",
       "2                                    Iron Man 2      28.515   2010-05-07   \n",
       "3                                     Toy Story      28.005   1995-11-22   \n",
       "4                                     Inception      27.920   2010-07-16   \n",
       "\n",
       "                                          title  vote_average  vote_count  \n",
       "0  Harry Potter and the Deathly Hallows: Part 1           7.7       10788  \n",
       "1                      How to Train Your Dragon           7.7        7610  \n",
       "2                                    Iron Man 2           6.8       12368  \n",
       "3                                     Toy Story           7.9       10174  \n",
       "4                                     Inception           8.3       22186  "
      ]
     },
     "execution_count": 17,
     "metadata": {},
     "output_type": "execute_result"
    }
   ],
   "source": [
    "df2.head()"
   ]
  },
  {
   "cell_type": "code",
   "execution_count": 18,
   "metadata": {},
   "outputs": [
    {
     "name": "stdout",
     "output_type": "stream",
     "text": [
      "<class 'pandas.core.frame.DataFrame'>\n",
      "RangeIndex: 26517 entries, 0 to 26516\n",
      "Data columns (total 10 columns):\n",
      " #   Column             Non-Null Count  Dtype  \n",
      "---  ------             --------------  -----  \n",
      " 0   Unnamed: 0         26517 non-null  int64  \n",
      " 1   genre_ids          26517 non-null  object \n",
      " 2   id                 26517 non-null  int64  \n",
      " 3   original_language  26517 non-null  object \n",
      " 4   original_title     26517 non-null  object \n",
      " 5   popularity         26517 non-null  float64\n",
      " 6   release_date       26517 non-null  object \n",
      " 7   title              26517 non-null  object \n",
      " 8   vote_average       26517 non-null  float64\n",
      " 9   vote_count         26517 non-null  int64  \n",
      "dtypes: float64(2), int64(3), object(5)\n",
      "memory usage: 2.0+ MB\n"
     ]
    }
   ],
   "source": [
    "df2.info()"
   ]
  },
  {
   "cell_type": "code",
   "execution_count": 19,
   "metadata": {},
   "outputs": [],
   "source": [
    "#drop columns : unnamed: 0, genre_ids, id, original_title\n",
    "df2 = df2.drop(['Unnamed: 0', 'genre_ids','id', 'original_title'],axis = 1)"
   ]
  },
  {
   "cell_type": "code",
   "execution_count": 20,
   "metadata": {},
   "outputs": [],
   "source": [
    "#drop any duplicate values\n",
    "df2 = df2.drop_duplicates(subset=None, keep='first')"
   ]
  },
  {
   "cell_type": "code",
   "execution_count": 21,
   "metadata": {},
   "outputs": [
    {
     "name": "stdout",
     "output_type": "stream",
     "text": [
      "<class 'pandas.core.frame.DataFrame'>\n",
      "Int64Index: 25497 entries, 0 to 26516\n",
      "Data columns (total 6 columns):\n",
      " #   Column             Non-Null Count  Dtype  \n",
      "---  ------             --------------  -----  \n",
      " 0   original_language  25497 non-null  object \n",
      " 1   popularity         25497 non-null  float64\n",
      " 2   release_date       25497 non-null  object \n",
      " 3   title              25497 non-null  object \n",
      " 4   vote_average       25497 non-null  float64\n",
      " 5   vote_count         25497 non-null  int64  \n",
      "dtypes: float64(2), int64(1), object(3)\n",
      "memory usage: 1.4+ MB\n"
     ]
    }
   ],
   "source": [
    "df2.info()"
   ]
  },
  {
   "cell_type": "code",
   "execution_count": 22,
   "metadata": {},
   "outputs": [],
   "source": [
    "#convert title to lowercase for consistency\n",
    "df2['title'] = df2['title'].str.lower()"
   ]
  },
  {
   "cell_type": "code",
   "execution_count": 23,
   "metadata": {},
   "outputs": [
    {
     "data": {
      "text/plain": [
       "0    harry potter and the deathly hallows: part 1\n",
       "1                        how to train your dragon\n",
       "2                                      iron man 2\n",
       "3                                       toy story\n",
       "4                                       inception\n",
       "Name: title, dtype: object"
      ]
     },
     "execution_count": 23,
     "metadata": {},
     "output_type": "execute_result"
    }
   ],
   "source": [
    "df2['title'].head()"
   ]
  },
  {
   "cell_type": "code",
   "execution_count": 24,
   "metadata": {},
   "outputs": [
    {
     "data": {
      "text/plain": [
       "0    2010-11-19\n",
       "1    2010-03-26\n",
       "2    2010-05-07\n",
       "3    1995-11-22\n",
       "4    2010-07-16\n",
       "Name: release_date, dtype: object"
      ]
     },
     "execution_count": 24,
     "metadata": {},
     "output_type": "execute_result"
    }
   ],
   "source": [
    "df2['release_date'].head()"
   ]
  },
  {
   "cell_type": "code",
   "execution_count": 25,
   "metadata": {},
   "outputs": [],
   "source": [
    "#convert release-date from object to datetime\n",
    "df2['release_date'] = pd.to_datetime(df2['release_date'])"
   ]
  },
  {
   "cell_type": "code",
   "execution_count": 26,
   "metadata": {},
   "outputs": [
    {
     "name": "stdout",
     "output_type": "stream",
     "text": [
      "<class 'pandas.core.frame.DataFrame'>\n",
      "Int64Index: 25497 entries, 0 to 26516\n",
      "Data columns (total 6 columns):\n",
      " #   Column             Non-Null Count  Dtype         \n",
      "---  ------             --------------  -----         \n",
      " 0   original_language  25497 non-null  object        \n",
      " 1   popularity         25497 non-null  float64       \n",
      " 2   release_date       25497 non-null  datetime64[ns]\n",
      " 3   title              25497 non-null  object        \n",
      " 4   vote_average       25497 non-null  float64       \n",
      " 5   vote_count         25497 non-null  int64         \n",
      "dtypes: datetime64[ns](1), float64(2), int64(1), object(2)\n",
      "memory usage: 1.4+ MB\n"
     ]
    }
   ],
   "source": [
    "df2.info()"
   ]
  },
  {
   "cell_type": "code",
   "execution_count": 27,
   "metadata": {},
   "outputs": [
    {
     "data": {
      "text/plain": [
       "0"
      ]
     },
     "execution_count": 27,
     "metadata": {},
     "output_type": "execute_result"
    }
   ],
   "source": [
    "#count null value\n",
    "df2.isna().sum().sum()"
   ]
  },
  {
   "cell_type": "markdown",
   "metadata": {},
   "source": [
    "# Clean the third dataset (movie budgets)\n",
    "df3 = tn.movie_budgets.csv"
   ]
  },
  {
   "cell_type": "code",
   "execution_count": 28,
   "metadata": {},
   "outputs": [
    {
     "data": {
      "text/html": [
       "<div>\n",
       "<style scoped>\n",
       "    .dataframe tbody tr th:only-of-type {\n",
       "        vertical-align: middle;\n",
       "    }\n",
       "\n",
       "    .dataframe tbody tr th {\n",
       "        vertical-align: top;\n",
       "    }\n",
       "\n",
       "    .dataframe thead th {\n",
       "        text-align: right;\n",
       "    }\n",
       "</style>\n",
       "<table border=\"1\" class=\"dataframe\">\n",
       "  <thead>\n",
       "    <tr style=\"text-align: right;\">\n",
       "      <th></th>\n",
       "      <th>id</th>\n",
       "      <th>release_date</th>\n",
       "      <th>movie</th>\n",
       "      <th>production_budget</th>\n",
       "      <th>domestic_gross</th>\n",
       "      <th>worldwide_gross</th>\n",
       "    </tr>\n",
       "  </thead>\n",
       "  <tbody>\n",
       "    <tr>\n",
       "      <th>0</th>\n",
       "      <td>1</td>\n",
       "      <td>Dec 18, 2009</td>\n",
       "      <td>Avatar</td>\n",
       "      <td>$425,000,000</td>\n",
       "      <td>$760,507,625</td>\n",
       "      <td>$2,776,345,279</td>\n",
       "    </tr>\n",
       "    <tr>\n",
       "      <th>1</th>\n",
       "      <td>2</td>\n",
       "      <td>May 20, 2011</td>\n",
       "      <td>Pirates of the Caribbean: On Stranger Tides</td>\n",
       "      <td>$410,600,000</td>\n",
       "      <td>$241,063,875</td>\n",
       "      <td>$1,045,663,875</td>\n",
       "    </tr>\n",
       "    <tr>\n",
       "      <th>2</th>\n",
       "      <td>3</td>\n",
       "      <td>Jun 7, 2019</td>\n",
       "      <td>Dark Phoenix</td>\n",
       "      <td>$350,000,000</td>\n",
       "      <td>$42,762,350</td>\n",
       "      <td>$149,762,350</td>\n",
       "    </tr>\n",
       "    <tr>\n",
       "      <th>3</th>\n",
       "      <td>4</td>\n",
       "      <td>May 1, 2015</td>\n",
       "      <td>Avengers: Age of Ultron</td>\n",
       "      <td>$330,600,000</td>\n",
       "      <td>$459,005,868</td>\n",
       "      <td>$1,403,013,963</td>\n",
       "    </tr>\n",
       "    <tr>\n",
       "      <th>4</th>\n",
       "      <td>5</td>\n",
       "      <td>Dec 15, 2017</td>\n",
       "      <td>Star Wars Ep. VIII: The Last Jedi</td>\n",
       "      <td>$317,000,000</td>\n",
       "      <td>$620,181,382</td>\n",
       "      <td>$1,316,721,747</td>\n",
       "    </tr>\n",
       "  </tbody>\n",
       "</table>\n",
       "</div>"
      ],
      "text/plain": [
       "   id  release_date                                        movie  \\\n",
       "0   1  Dec 18, 2009                                       Avatar   \n",
       "1   2  May 20, 2011  Pirates of the Caribbean: On Stranger Tides   \n",
       "2   3   Jun 7, 2019                                 Dark Phoenix   \n",
       "3   4   May 1, 2015                      Avengers: Age of Ultron   \n",
       "4   5  Dec 15, 2017            Star Wars Ep. VIII: The Last Jedi   \n",
       "\n",
       "  production_budget domestic_gross worldwide_gross  \n",
       "0      $425,000,000   $760,507,625  $2,776,345,279  \n",
       "1      $410,600,000   $241,063,875  $1,045,663,875  \n",
       "2      $350,000,000    $42,762,350    $149,762,350  \n",
       "3      $330,600,000   $459,005,868  $1,403,013,963  \n",
       "4      $317,000,000   $620,181,382  $1,316,721,747  "
      ]
     },
     "execution_count": 28,
     "metadata": {},
     "output_type": "execute_result"
    }
   ],
   "source": [
    "df3.head()"
   ]
  },
  {
   "cell_type": "code",
   "execution_count": 29,
   "metadata": {},
   "outputs": [
    {
     "name": "stdout",
     "output_type": "stream",
     "text": [
      "<class 'pandas.core.frame.DataFrame'>\n",
      "RangeIndex: 5782 entries, 0 to 5781\n",
      "Data columns (total 6 columns):\n",
      " #   Column             Non-Null Count  Dtype \n",
      "---  ------             --------------  ----- \n",
      " 0   id                 5782 non-null   int64 \n",
      " 1   release_date       5782 non-null   object\n",
      " 2   movie              5782 non-null   object\n",
      " 3   production_budget  5782 non-null   object\n",
      " 4   domestic_gross     5782 non-null   object\n",
      " 5   worldwide_gross    5782 non-null   object\n",
      "dtypes: int64(1), object(5)\n",
      "memory usage: 271.2+ KB\n"
     ]
    }
   ],
   "source": [
    "df3.info()"
   ]
  },
  {
   "cell_type": "code",
   "execution_count": 30,
   "metadata": {},
   "outputs": [],
   "source": [
    "#drop any duplicate values\n",
    "df3 = df3.drop_duplicates(subset=None, keep='first')"
   ]
  },
  {
   "cell_type": "code",
   "execution_count": 31,
   "metadata": {},
   "outputs": [],
   "source": [
    "#convert movie title to lowercase for consistency\n",
    "df3['movie'] = df3['movie'].str.lower()"
   ]
  },
  {
   "cell_type": "code",
   "execution_count": 32,
   "metadata": {},
   "outputs": [
    {
     "data": {
      "text/plain": [
       "0                                         avatar\n",
       "1    pirates of the caribbean: on stranger tides\n",
       "2                                   dark phoenix\n",
       "3                        avengers: age of ultron\n",
       "4              star wars ep. viii: the last jedi\n",
       "Name: movie, dtype: object"
      ]
     },
     "execution_count": 32,
     "metadata": {},
     "output_type": "execute_result"
    }
   ],
   "source": [
    "df3['movie'].head()"
   ]
  },
  {
   "cell_type": "code",
   "execution_count": 33,
   "metadata": {},
   "outputs": [],
   "source": [
    "#convert release_date to datetime in the format year-month-date\n",
    "df3['release_date'] = pd.to_datetime(df3['release_date'])"
   ]
  },
  {
   "cell_type": "code",
   "execution_count": 34,
   "metadata": {},
   "outputs": [
    {
     "data": {
      "text/plain": [
       "0   2009-12-18\n",
       "1   2011-05-20\n",
       "2   2019-06-07\n",
       "3   2015-05-01\n",
       "4   2017-12-15\n",
       "Name: release_date, dtype: datetime64[ns]"
      ]
     },
     "execution_count": 34,
     "metadata": {},
     "output_type": "execute_result"
    }
   ],
   "source": [
    "df3['release_date'].head()"
   ]
  },
  {
   "cell_type": "code",
   "execution_count": 35,
   "metadata": {},
   "outputs": [
    {
     "data": {
      "text/plain": [
       "0"
      ]
     },
     "execution_count": 35,
     "metadata": {},
     "output_type": "execute_result"
    }
   ],
   "source": [
    "#check for null values\n",
    "df3.isna().sum().sum()"
   ]
  },
  {
   "cell_type": "code",
   "execution_count": 36,
   "metadata": {},
   "outputs": [],
   "source": [
    "#drop column id and domestic gross\n",
    "df3 = df3.drop(['id', 'domestic_gross'],axis = 1)"
   ]
  },
  {
   "cell_type": "code",
   "execution_count": 37,
   "metadata": {},
   "outputs": [
    {
     "name": "stdout",
     "output_type": "stream",
     "text": [
      "<class 'pandas.core.frame.DataFrame'>\n",
      "Int64Index: 5782 entries, 0 to 5781\n",
      "Data columns (total 4 columns):\n",
      " #   Column             Non-Null Count  Dtype         \n",
      "---  ------             --------------  -----         \n",
      " 0   release_date       5782 non-null   datetime64[ns]\n",
      " 1   movie              5782 non-null   object        \n",
      " 2   production_budget  5782 non-null   object        \n",
      " 3   worldwide_gross    5782 non-null   object        \n",
      "dtypes: datetime64[ns](1), object(3)\n",
      "memory usage: 225.9+ KB\n"
     ]
    }
   ],
   "source": [
    "df3.info()"
   ]
  },
  {
   "cell_type": "code",
   "execution_count": 38,
   "metadata": {},
   "outputs": [
    {
     "data": {
      "text/plain": [
       "0    $425,000,000\n",
       "1    $410,600,000\n",
       "2    $350,000,000\n",
       "3    $330,600,000\n",
       "4    $317,000,000\n",
       "Name: production_budget, dtype: object"
      ]
     },
     "execution_count": 38,
     "metadata": {},
     "output_type": "execute_result"
    }
   ],
   "source": [
    "#convert production_budget and worldwide_gross to int\n",
    "df3['production_budget'].head()"
   ]
  },
  {
   "cell_type": "code",
   "execution_count": 39,
   "metadata": {},
   "outputs": [
    {
     "data": {
      "text/plain": [
       "0    425000000.0\n",
       "1    410600000.0\n",
       "2    350000000.0\n",
       "3    330600000.0\n",
       "4    317000000.0\n",
       "Name: production_budget, dtype: float64"
      ]
     },
     "execution_count": 39,
     "metadata": {},
     "output_type": "execute_result"
    }
   ],
   "source": [
    "# drop $ and , from the values and convert it to float\n",
    "df3['production_budget'] = df3['production_budget'].str.replace(',', '')\n",
    "df3['production_budget'] = df3['production_budget'].str.replace('$', '')\n",
    "df3['production_budget'] = df3['production_budget'].astype(float)\n",
    "df3['production_budget'].head()"
   ]
  },
  {
   "cell_type": "code",
   "execution_count": 40,
   "metadata": {},
   "outputs": [
    {
     "name": "stdout",
     "output_type": "stream",
     "text": [
      "<class 'pandas.core.frame.DataFrame'>\n",
      "Int64Index: 5782 entries, 0 to 5781\n",
      "Data columns (total 4 columns):\n",
      " #   Column             Non-Null Count  Dtype         \n",
      "---  ------             --------------  -----         \n",
      " 0   release_date       5782 non-null   datetime64[ns]\n",
      " 1   movie              5782 non-null   object        \n",
      " 2   production_budget  5782 non-null   float64       \n",
      " 3   worldwide_gross    5782 non-null   object        \n",
      "dtypes: datetime64[ns](1), float64(1), object(2)\n",
      "memory usage: 225.9+ KB\n"
     ]
    }
   ],
   "source": [
    "df3.info()"
   ]
  },
  {
   "cell_type": "code",
   "execution_count": 41,
   "metadata": {},
   "outputs": [
    {
     "data": {
      "text/plain": [
       "0    $2,776,345,279\n",
       "1    $1,045,663,875\n",
       "2      $149,762,350\n",
       "3    $1,403,013,963\n",
       "4    $1,316,721,747\n",
       "Name: worldwide_gross, dtype: object"
      ]
     },
     "execution_count": 41,
     "metadata": {},
     "output_type": "execute_result"
    }
   ],
   "source": [
    "df3['worldwide_gross'].head()"
   ]
  },
  {
   "cell_type": "code",
   "execution_count": 42,
   "metadata": {},
   "outputs": [
    {
     "data": {
      "text/plain": [
       "0    2.776345e+09\n",
       "1    1.045664e+09\n",
       "2    1.497624e+08\n",
       "3    1.403014e+09\n",
       "4    1.316722e+09\n",
       "Name: worldwide_gross, dtype: float64"
      ]
     },
     "execution_count": 42,
     "metadata": {},
     "output_type": "execute_result"
    }
   ],
   "source": [
    "# convert worldwide_gross to int and drop $ and ,\n",
    "df3['worldwide_gross'] = df3['worldwide_gross'].str.replace(',', '')\n",
    "df3['worldwide_gross'] = df3['worldwide_gross'].str.replace('$', '')\n",
    "df3['worldwide_gross'] = df3['worldwide_gross'].astype(float)\n",
    "df3['worldwide_gross'].head()"
   ]
  },
  {
   "cell_type": "code",
   "execution_count": 43,
   "metadata": {},
   "outputs": [
    {
     "data": {
      "text/html": [
       "<div>\n",
       "<style scoped>\n",
       "    .dataframe tbody tr th:only-of-type {\n",
       "        vertical-align: middle;\n",
       "    }\n",
       "\n",
       "    .dataframe tbody tr th {\n",
       "        vertical-align: top;\n",
       "    }\n",
       "\n",
       "    .dataframe thead th {\n",
       "        text-align: right;\n",
       "    }\n",
       "</style>\n",
       "<table border=\"1\" class=\"dataframe\">\n",
       "  <thead>\n",
       "    <tr style=\"text-align: right;\">\n",
       "      <th></th>\n",
       "      <th>release_date</th>\n",
       "      <th>movie</th>\n",
       "      <th>production_budget</th>\n",
       "      <th>worldwide_gross</th>\n",
       "    </tr>\n",
       "  </thead>\n",
       "  <tbody>\n",
       "    <tr>\n",
       "      <th>0</th>\n",
       "      <td>2009-12-18</td>\n",
       "      <td>avatar</td>\n",
       "      <td>425000000.0</td>\n",
       "      <td>2.776345e+09</td>\n",
       "    </tr>\n",
       "    <tr>\n",
       "      <th>1</th>\n",
       "      <td>2011-05-20</td>\n",
       "      <td>pirates of the caribbean: on stranger tides</td>\n",
       "      <td>410600000.0</td>\n",
       "      <td>1.045664e+09</td>\n",
       "    </tr>\n",
       "    <tr>\n",
       "      <th>2</th>\n",
       "      <td>2019-06-07</td>\n",
       "      <td>dark phoenix</td>\n",
       "      <td>350000000.0</td>\n",
       "      <td>1.497624e+08</td>\n",
       "    </tr>\n",
       "    <tr>\n",
       "      <th>3</th>\n",
       "      <td>2015-05-01</td>\n",
       "      <td>avengers: age of ultron</td>\n",
       "      <td>330600000.0</td>\n",
       "      <td>1.403014e+09</td>\n",
       "    </tr>\n",
       "    <tr>\n",
       "      <th>4</th>\n",
       "      <td>2017-12-15</td>\n",
       "      <td>star wars ep. viii: the last jedi</td>\n",
       "      <td>317000000.0</td>\n",
       "      <td>1.316722e+09</td>\n",
       "    </tr>\n",
       "  </tbody>\n",
       "</table>\n",
       "</div>"
      ],
      "text/plain": [
       "  release_date                                        movie  \\\n",
       "0   2009-12-18                                       avatar   \n",
       "1   2011-05-20  pirates of the caribbean: on stranger tides   \n",
       "2   2019-06-07                                 dark phoenix   \n",
       "3   2015-05-01                      avengers: age of ultron   \n",
       "4   2017-12-15            star wars ep. viii: the last jedi   \n",
       "\n",
       "   production_budget  worldwide_gross  \n",
       "0        425000000.0     2.776345e+09  \n",
       "1        410600000.0     1.045664e+09  \n",
       "2        350000000.0     1.497624e+08  \n",
       "3        330600000.0     1.403014e+09  \n",
       "4        317000000.0     1.316722e+09  "
      ]
     },
     "execution_count": 43,
     "metadata": {},
     "output_type": "execute_result"
    }
   ],
   "source": [
    "df3.head()"
   ]
  },
  {
   "cell_type": "code",
   "execution_count": 44,
   "metadata": {},
   "outputs": [
    {
     "name": "stdout",
     "output_type": "stream",
     "text": [
      "<class 'pandas.core.frame.DataFrame'>\n",
      "Int64Index: 5782 entries, 0 to 5781\n",
      "Data columns (total 4 columns):\n",
      " #   Column             Non-Null Count  Dtype         \n",
      "---  ------             --------------  -----         \n",
      " 0   release_date       5782 non-null   datetime64[ns]\n",
      " 1   movie              5782 non-null   object        \n",
      " 2   production_budget  5782 non-null   float64       \n",
      " 3   worldwide_gross    5782 non-null   float64       \n",
      "dtypes: datetime64[ns](1), float64(2), object(1)\n",
      "memory usage: 225.9+ KB\n"
     ]
    }
   ],
   "source": [
    "df3.info()"
   ]
  },
  {
   "cell_type": "code",
   "execution_count": 45,
   "metadata": {},
   "outputs": [],
   "source": [
    "#create new column return_on_investment to see the profit or loss made by the movies\n",
    "# return_on_investment = worldwide_gross - production_budget\n",
    "df3['return_on_investment'] = df3['worldwide_gross'] - df3['production_budget']"
   ]
  },
  {
   "cell_type": "code",
   "execution_count": 46,
   "metadata": {},
   "outputs": [
    {
     "name": "stdout",
     "output_type": "stream",
     "text": [
      "<class 'pandas.core.frame.DataFrame'>\n",
      "Int64Index: 5782 entries, 0 to 5781\n",
      "Data columns (total 5 columns):\n",
      " #   Column                Non-Null Count  Dtype         \n",
      "---  ------                --------------  -----         \n",
      " 0   release_date          5782 non-null   datetime64[ns]\n",
      " 1   movie                 5782 non-null   object        \n",
      " 2   production_budget     5782 non-null   float64       \n",
      " 3   worldwide_gross       5782 non-null   float64       \n",
      " 4   return_on_investment  5782 non-null   float64       \n",
      "dtypes: datetime64[ns](1), float64(3), object(1)\n",
      "memory usage: 271.0+ KB\n"
     ]
    }
   ],
   "source": [
    "df3.info()"
   ]
  },
  {
   "cell_type": "code",
   "execution_count": 47,
   "metadata": {},
   "outputs": [
    {
     "data": {
      "text/html": [
       "<div>\n",
       "<style scoped>\n",
       "    .dataframe tbody tr th:only-of-type {\n",
       "        vertical-align: middle;\n",
       "    }\n",
       "\n",
       "    .dataframe tbody tr th {\n",
       "        vertical-align: top;\n",
       "    }\n",
       "\n",
       "    .dataframe thead th {\n",
       "        text-align: right;\n",
       "    }\n",
       "</style>\n",
       "<table border=\"1\" class=\"dataframe\">\n",
       "  <thead>\n",
       "    <tr style=\"text-align: right;\">\n",
       "      <th></th>\n",
       "      <th>release_date</th>\n",
       "      <th>movie</th>\n",
       "      <th>production_budget</th>\n",
       "      <th>worldwide_gross</th>\n",
       "      <th>return_on_investment</th>\n",
       "    </tr>\n",
       "  </thead>\n",
       "  <tbody>\n",
       "    <tr>\n",
       "      <th>0</th>\n",
       "      <td>2009-12-18</td>\n",
       "      <td>avatar</td>\n",
       "      <td>425000000.0</td>\n",
       "      <td>2.776345e+09</td>\n",
       "      <td>2.351345e+09</td>\n",
       "    </tr>\n",
       "    <tr>\n",
       "      <th>1</th>\n",
       "      <td>2011-05-20</td>\n",
       "      <td>pirates of the caribbean: on stranger tides</td>\n",
       "      <td>410600000.0</td>\n",
       "      <td>1.045664e+09</td>\n",
       "      <td>6.350639e+08</td>\n",
       "    </tr>\n",
       "    <tr>\n",
       "      <th>2</th>\n",
       "      <td>2019-06-07</td>\n",
       "      <td>dark phoenix</td>\n",
       "      <td>350000000.0</td>\n",
       "      <td>1.497624e+08</td>\n",
       "      <td>-2.002376e+08</td>\n",
       "    </tr>\n",
       "    <tr>\n",
       "      <th>3</th>\n",
       "      <td>2015-05-01</td>\n",
       "      <td>avengers: age of ultron</td>\n",
       "      <td>330600000.0</td>\n",
       "      <td>1.403014e+09</td>\n",
       "      <td>1.072414e+09</td>\n",
       "    </tr>\n",
       "    <tr>\n",
       "      <th>4</th>\n",
       "      <td>2017-12-15</td>\n",
       "      <td>star wars ep. viii: the last jedi</td>\n",
       "      <td>317000000.0</td>\n",
       "      <td>1.316722e+09</td>\n",
       "      <td>9.997217e+08</td>\n",
       "    </tr>\n",
       "  </tbody>\n",
       "</table>\n",
       "</div>"
      ],
      "text/plain": [
       "  release_date                                        movie  \\\n",
       "0   2009-12-18                                       avatar   \n",
       "1   2011-05-20  pirates of the caribbean: on stranger tides   \n",
       "2   2019-06-07                                 dark phoenix   \n",
       "3   2015-05-01                      avengers: age of ultron   \n",
       "4   2017-12-15            star wars ep. viii: the last jedi   \n",
       "\n",
       "   production_budget  worldwide_gross  return_on_investment  \n",
       "0        425000000.0     2.776345e+09          2.351345e+09  \n",
       "1        410600000.0     1.045664e+09          6.350639e+08  \n",
       "2        350000000.0     1.497624e+08         -2.002376e+08  \n",
       "3        330600000.0     1.403014e+09          1.072414e+09  \n",
       "4        317000000.0     1.316722e+09          9.997217e+08  "
      ]
     },
     "execution_count": 47,
     "metadata": {},
     "output_type": "execute_result"
    }
   ],
   "source": [
    "df3.head()"
   ]
  },
  {
   "cell_type": "markdown",
   "metadata": {},
   "source": [
    "# Combine all three dataframes to one dataframe for final analysis\n",
    "df = df1 + df2 + df3"
   ]
  },
  {
   "cell_type": "code",
   "execution_count": 48,
   "metadata": {},
   "outputs": [],
   "source": [
    "#convert primary_title in df1 and movie in df3 to title to merge\n",
    "df1.rename(columns = {'primary_title':'title'}, inplace = True)"
   ]
  },
  {
   "cell_type": "code",
   "execution_count": 49,
   "metadata": {},
   "outputs": [
    {
     "data": {
      "text/html": [
       "<div>\n",
       "<style scoped>\n",
       "    .dataframe tbody tr th:only-of-type {\n",
       "        vertical-align: middle;\n",
       "    }\n",
       "\n",
       "    .dataframe tbody tr th {\n",
       "        vertical-align: top;\n",
       "    }\n",
       "\n",
       "    .dataframe thead th {\n",
       "        text-align: right;\n",
       "    }\n",
       "</style>\n",
       "<table border=\"1\" class=\"dataframe\">\n",
       "  <thead>\n",
       "    <tr style=\"text-align: right;\">\n",
       "      <th></th>\n",
       "      <th>title</th>\n",
       "      <th>genres</th>\n",
       "    </tr>\n",
       "  </thead>\n",
       "  <tbody>\n",
       "    <tr>\n",
       "      <th>0</th>\n",
       "      <td>sunghursh</td>\n",
       "      <td>multiple_gen</td>\n",
       "    </tr>\n",
       "    <tr>\n",
       "      <th>1</th>\n",
       "      <td>one day before the rainy season</td>\n",
       "      <td>multiple_gen</td>\n",
       "    </tr>\n",
       "    <tr>\n",
       "      <th>2</th>\n",
       "      <td>the other side of the wind</td>\n",
       "      <td>Drama</td>\n",
       "    </tr>\n",
       "    <tr>\n",
       "      <th>3</th>\n",
       "      <td>sabse bada sukh</td>\n",
       "      <td>multiple_gen</td>\n",
       "    </tr>\n",
       "    <tr>\n",
       "      <th>4</th>\n",
       "      <td>the wandering soap opera</td>\n",
       "      <td>multiple_gen</td>\n",
       "    </tr>\n",
       "  </tbody>\n",
       "</table>\n",
       "</div>"
      ],
      "text/plain": [
       "                             title        genres\n",
       "0                        sunghursh  multiple_gen\n",
       "1  one day before the rainy season  multiple_gen\n",
       "2       the other side of the wind         Drama\n",
       "3                  sabse bada sukh  multiple_gen\n",
       "4         the wandering soap opera  multiple_gen"
      ]
     },
     "execution_count": 49,
     "metadata": {},
     "output_type": "execute_result"
    }
   ],
   "source": [
    "df1.head()"
   ]
  },
  {
   "cell_type": "code",
   "execution_count": 50,
   "metadata": {},
   "outputs": [],
   "source": [
    "df3.rename(columns = {'movie':'title'}, inplace = True)"
   ]
  },
  {
   "cell_type": "code",
   "execution_count": 51,
   "metadata": {},
   "outputs": [
    {
     "data": {
      "text/html": [
       "<div>\n",
       "<style scoped>\n",
       "    .dataframe tbody tr th:only-of-type {\n",
       "        vertical-align: middle;\n",
       "    }\n",
       "\n",
       "    .dataframe tbody tr th {\n",
       "        vertical-align: top;\n",
       "    }\n",
       "\n",
       "    .dataframe thead th {\n",
       "        text-align: right;\n",
       "    }\n",
       "</style>\n",
       "<table border=\"1\" class=\"dataframe\">\n",
       "  <thead>\n",
       "    <tr style=\"text-align: right;\">\n",
       "      <th></th>\n",
       "      <th>release_date</th>\n",
       "      <th>title</th>\n",
       "      <th>production_budget</th>\n",
       "      <th>worldwide_gross</th>\n",
       "      <th>return_on_investment</th>\n",
       "    </tr>\n",
       "  </thead>\n",
       "  <tbody>\n",
       "    <tr>\n",
       "      <th>0</th>\n",
       "      <td>2009-12-18</td>\n",
       "      <td>avatar</td>\n",
       "      <td>425000000.0</td>\n",
       "      <td>2.776345e+09</td>\n",
       "      <td>2.351345e+09</td>\n",
       "    </tr>\n",
       "    <tr>\n",
       "      <th>1</th>\n",
       "      <td>2011-05-20</td>\n",
       "      <td>pirates of the caribbean: on stranger tides</td>\n",
       "      <td>410600000.0</td>\n",
       "      <td>1.045664e+09</td>\n",
       "      <td>6.350639e+08</td>\n",
       "    </tr>\n",
       "    <tr>\n",
       "      <th>2</th>\n",
       "      <td>2019-06-07</td>\n",
       "      <td>dark phoenix</td>\n",
       "      <td>350000000.0</td>\n",
       "      <td>1.497624e+08</td>\n",
       "      <td>-2.002376e+08</td>\n",
       "    </tr>\n",
       "    <tr>\n",
       "      <th>3</th>\n",
       "      <td>2015-05-01</td>\n",
       "      <td>avengers: age of ultron</td>\n",
       "      <td>330600000.0</td>\n",
       "      <td>1.403014e+09</td>\n",
       "      <td>1.072414e+09</td>\n",
       "    </tr>\n",
       "    <tr>\n",
       "      <th>4</th>\n",
       "      <td>2017-12-15</td>\n",
       "      <td>star wars ep. viii: the last jedi</td>\n",
       "      <td>317000000.0</td>\n",
       "      <td>1.316722e+09</td>\n",
       "      <td>9.997217e+08</td>\n",
       "    </tr>\n",
       "  </tbody>\n",
       "</table>\n",
       "</div>"
      ],
      "text/plain": [
       "  release_date                                        title  \\\n",
       "0   2009-12-18                                       avatar   \n",
       "1   2011-05-20  pirates of the caribbean: on stranger tides   \n",
       "2   2019-06-07                                 dark phoenix   \n",
       "3   2015-05-01                      avengers: age of ultron   \n",
       "4   2017-12-15            star wars ep. viii: the last jedi   \n",
       "\n",
       "   production_budget  worldwide_gross  return_on_investment  \n",
       "0        425000000.0     2.776345e+09          2.351345e+09  \n",
       "1        410600000.0     1.045664e+09          6.350639e+08  \n",
       "2        350000000.0     1.497624e+08         -2.002376e+08  \n",
       "3        330600000.0     1.403014e+09          1.072414e+09  \n",
       "4        317000000.0     1.316722e+09          9.997217e+08  "
      ]
     },
     "execution_count": 51,
     "metadata": {},
     "output_type": "execute_result"
    }
   ],
   "source": [
    "df3.head()"
   ]
  },
  {
   "cell_type": "code",
   "execution_count": 52,
   "metadata": {},
   "outputs": [
    {
     "name": "stdout",
     "output_type": "stream",
     "text": [
      "<class 'pandas.core.frame.DataFrame'>\n",
      "Int64Index: 139059 entries, 0 to 146143\n",
      "Data columns (total 2 columns):\n",
      " #   Column  Non-Null Count   Dtype \n",
      "---  ------  --------------   ----- \n",
      " 0   title   139059 non-null  object\n",
      " 1   genres  139059 non-null  object\n",
      "dtypes: object(2)\n",
      "memory usage: 3.2+ MB\n"
     ]
    }
   ],
   "source": [
    "df1.info()"
   ]
  },
  {
   "cell_type": "code",
   "execution_count": 53,
   "metadata": {},
   "outputs": [
    {
     "name": "stdout",
     "output_type": "stream",
     "text": [
      "<class 'pandas.core.frame.DataFrame'>\n",
      "Int64Index: 25497 entries, 0 to 26516\n",
      "Data columns (total 6 columns):\n",
      " #   Column             Non-Null Count  Dtype         \n",
      "---  ------             --------------  -----         \n",
      " 0   original_language  25497 non-null  object        \n",
      " 1   popularity         25497 non-null  float64       \n",
      " 2   release_date       25497 non-null  datetime64[ns]\n",
      " 3   title              25497 non-null  object        \n",
      " 4   vote_average       25497 non-null  float64       \n",
      " 5   vote_count         25497 non-null  int64         \n",
      "dtypes: datetime64[ns](1), float64(2), int64(1), object(2)\n",
      "memory usage: 1.4+ MB\n"
     ]
    }
   ],
   "source": [
    "df2.info()"
   ]
  },
  {
   "cell_type": "code",
   "execution_count": 54,
   "metadata": {},
   "outputs": [
    {
     "name": "stdout",
     "output_type": "stream",
     "text": [
      "<class 'pandas.core.frame.DataFrame'>\n",
      "Int64Index: 5782 entries, 0 to 5781\n",
      "Data columns (total 5 columns):\n",
      " #   Column                Non-Null Count  Dtype         \n",
      "---  ------                --------------  -----         \n",
      " 0   release_date          5782 non-null   datetime64[ns]\n",
      " 1   title                 5782 non-null   object        \n",
      " 2   production_budget     5782 non-null   float64       \n",
      " 3   worldwide_gross       5782 non-null   float64       \n",
      " 4   return_on_investment  5782 non-null   float64       \n",
      "dtypes: datetime64[ns](1), float64(3), object(1)\n",
      "memory usage: 271.0+ KB\n"
     ]
    }
   ],
   "source": [
    "df3.info()"
   ]
  },
  {
   "cell_type": "code",
   "execution_count": 55,
   "metadata": {},
   "outputs": [
    {
     "data": {
      "text/html": [
       "<div>\n",
       "<style scoped>\n",
       "    .dataframe tbody tr th:only-of-type {\n",
       "        vertical-align: middle;\n",
       "    }\n",
       "\n",
       "    .dataframe tbody tr th {\n",
       "        vertical-align: top;\n",
       "    }\n",
       "\n",
       "    .dataframe thead th {\n",
       "        text-align: right;\n",
       "    }\n",
       "</style>\n",
       "<table border=\"1\" class=\"dataframe\">\n",
       "  <thead>\n",
       "    <tr style=\"text-align: right;\">\n",
       "      <th></th>\n",
       "      <th>title</th>\n",
       "      <th>genres</th>\n",
       "      <th>original_language</th>\n",
       "      <th>popularity</th>\n",
       "      <th>release_date_x</th>\n",
       "      <th>vote_average</th>\n",
       "      <th>vote_count</th>\n",
       "      <th>release_date_y</th>\n",
       "      <th>production_budget</th>\n",
       "      <th>worldwide_gross</th>\n",
       "      <th>return_on_investment</th>\n",
       "    </tr>\n",
       "  </thead>\n",
       "  <tbody>\n",
       "    <tr>\n",
       "      <th>0</th>\n",
       "      <td>foodfight!</td>\n",
       "      <td>multiple_gen</td>\n",
       "      <td>en</td>\n",
       "      <td>4.705</td>\n",
       "      <td>2013-05-07</td>\n",
       "      <td>2.1</td>\n",
       "      <td>46</td>\n",
       "      <td>2012-12-31</td>\n",
       "      <td>45000000.0</td>\n",
       "      <td>73706.0</td>\n",
       "      <td>-44926294.0</td>\n",
       "    </tr>\n",
       "    <tr>\n",
       "      <th>1</th>\n",
       "      <td>on the road</td>\n",
       "      <td>multiple_gen</td>\n",
       "      <td>en</td>\n",
       "      <td>8.919</td>\n",
       "      <td>2012-12-21</td>\n",
       "      <td>5.6</td>\n",
       "      <td>518</td>\n",
       "      <td>2013-03-22</td>\n",
       "      <td>25000000.0</td>\n",
       "      <td>9313302.0</td>\n",
       "      <td>-15686698.0</td>\n",
       "    </tr>\n",
       "    <tr>\n",
       "      <th>2</th>\n",
       "      <td>on the road</td>\n",
       "      <td>Drama</td>\n",
       "      <td>en</td>\n",
       "      <td>8.919</td>\n",
       "      <td>2012-12-21</td>\n",
       "      <td>5.6</td>\n",
       "      <td>518</td>\n",
       "      <td>2013-03-22</td>\n",
       "      <td>25000000.0</td>\n",
       "      <td>9313302.0</td>\n",
       "      <td>-15686698.0</td>\n",
       "    </tr>\n",
       "    <tr>\n",
       "      <th>3</th>\n",
       "      <td>on the road</td>\n",
       "      <td>Documentary</td>\n",
       "      <td>en</td>\n",
       "      <td>8.919</td>\n",
       "      <td>2012-12-21</td>\n",
       "      <td>5.6</td>\n",
       "      <td>518</td>\n",
       "      <td>2013-03-22</td>\n",
       "      <td>25000000.0</td>\n",
       "      <td>9313302.0</td>\n",
       "      <td>-15686698.0</td>\n",
       "    </tr>\n",
       "    <tr>\n",
       "      <th>4</th>\n",
       "      <td>the secret life of walter mitty</td>\n",
       "      <td>multiple_gen</td>\n",
       "      <td>en</td>\n",
       "      <td>10.743</td>\n",
       "      <td>2013-12-25</td>\n",
       "      <td>7.1</td>\n",
       "      <td>4859</td>\n",
       "      <td>2013-12-25</td>\n",
       "      <td>91000000.0</td>\n",
       "      <td>187861183.0</td>\n",
       "      <td>96861183.0</td>\n",
       "    </tr>\n",
       "  </tbody>\n",
       "</table>\n",
       "</div>"
      ],
      "text/plain": [
       "                             title        genres original_language  \\\n",
       "0                       foodfight!  multiple_gen                en   \n",
       "1                      on the road  multiple_gen                en   \n",
       "2                      on the road         Drama                en   \n",
       "3                      on the road   Documentary                en   \n",
       "4  the secret life of walter mitty  multiple_gen                en   \n",
       "\n",
       "   popularity release_date_x  vote_average  vote_count release_date_y  \\\n",
       "0       4.705     2013-05-07           2.1          46     2012-12-31   \n",
       "1       8.919     2012-12-21           5.6         518     2013-03-22   \n",
       "2       8.919     2012-12-21           5.6         518     2013-03-22   \n",
       "3       8.919     2012-12-21           5.6         518     2013-03-22   \n",
       "4      10.743     2013-12-25           7.1        4859     2013-12-25   \n",
       "\n",
       "   production_budget  worldwide_gross  return_on_investment  \n",
       "0         45000000.0          73706.0           -44926294.0  \n",
       "1         25000000.0        9313302.0           -15686698.0  \n",
       "2         25000000.0        9313302.0           -15686698.0  \n",
       "3         25000000.0        9313302.0           -15686698.0  \n",
       "4         91000000.0      187861183.0            96861183.0  "
      ]
     },
     "execution_count": 55,
     "metadata": {},
     "output_type": "execute_result"
    }
   ],
   "source": [
    "#inner merge all 3 datasets on 'title' column\n",
    "df = df1.merge(df2, on='title').merge(df3, on='title')\n",
    "df.head()"
   ]
  },
  {
   "cell_type": "code",
   "execution_count": 56,
   "metadata": {},
   "outputs": [
    {
     "data": {
      "text/html": [
       "<div>\n",
       "<style scoped>\n",
       "    .dataframe tbody tr th:only-of-type {\n",
       "        vertical-align: middle;\n",
       "    }\n",
       "\n",
       "    .dataframe tbody tr th {\n",
       "        vertical-align: top;\n",
       "    }\n",
       "\n",
       "    .dataframe thead th {\n",
       "        text-align: right;\n",
       "    }\n",
       "</style>\n",
       "<table border=\"1\" class=\"dataframe\">\n",
       "  <thead>\n",
       "    <tr style=\"text-align: right;\">\n",
       "      <th></th>\n",
       "      <th>title</th>\n",
       "      <th>genres</th>\n",
       "      <th>original_language</th>\n",
       "      <th>popularity</th>\n",
       "      <th>release_date_x</th>\n",
       "      <th>vote_average</th>\n",
       "      <th>vote_count</th>\n",
       "      <th>release_date_y</th>\n",
       "      <th>production_budget</th>\n",
       "      <th>worldwide_gross</th>\n",
       "      <th>return_on_investment</th>\n",
       "    </tr>\n",
       "  </thead>\n",
       "  <tbody>\n",
       "    <tr>\n",
       "      <th>3813</th>\n",
       "      <td>dragon ball super: broly</td>\n",
       "      <td>multiple_gen</td>\n",
       "      <td>ja</td>\n",
       "      <td>6.868</td>\n",
       "      <td>2019-01-16</td>\n",
       "      <td>7.4</td>\n",
       "      <td>721</td>\n",
       "      <td>2019-01-16</td>\n",
       "      <td>8500000.0</td>\n",
       "      <td>122747755.0</td>\n",
       "      <td>114247755.0</td>\n",
       "    </tr>\n",
       "    <tr>\n",
       "      <th>3814</th>\n",
       "      <td>teefa in trouble</td>\n",
       "      <td>multiple_gen</td>\n",
       "      <td>ur</td>\n",
       "      <td>4.486</td>\n",
       "      <td>2018-07-20</td>\n",
       "      <td>7.6</td>\n",
       "      <td>11</td>\n",
       "      <td>2018-07-20</td>\n",
       "      <td>1500000.0</td>\n",
       "      <td>98806.0</td>\n",
       "      <td>-1401194.0</td>\n",
       "    </tr>\n",
       "    <tr>\n",
       "      <th>3815</th>\n",
       "      <td>fahrenheit 11/9</td>\n",
       "      <td>Documentary</td>\n",
       "      <td>en</td>\n",
       "      <td>10.003</td>\n",
       "      <td>2018-09-10</td>\n",
       "      <td>7.1</td>\n",
       "      <td>142</td>\n",
       "      <td>2018-09-21</td>\n",
       "      <td>5000000.0</td>\n",
       "      <td>6653715.0</td>\n",
       "      <td>1653715.0</td>\n",
       "    </tr>\n",
       "    <tr>\n",
       "      <th>3816</th>\n",
       "      <td>the magic flute</td>\n",
       "      <td>Music</td>\n",
       "      <td>en</td>\n",
       "      <td>0.647</td>\n",
       "      <td>2006-12-30</td>\n",
       "      <td>9.0</td>\n",
       "      <td>2</td>\n",
       "      <td>2006-12-31</td>\n",
       "      <td>27000000.0</td>\n",
       "      <td>0.0</td>\n",
       "      <td>-27000000.0</td>\n",
       "    </tr>\n",
       "    <tr>\n",
       "      <th>3817</th>\n",
       "      <td>the magic flute</td>\n",
       "      <td>Music</td>\n",
       "      <td>sv</td>\n",
       "      <td>3.208</td>\n",
       "      <td>1975-11-11</td>\n",
       "      <td>7.1</td>\n",
       "      <td>28</td>\n",
       "      <td>2006-12-31</td>\n",
       "      <td>27000000.0</td>\n",
       "      <td>0.0</td>\n",
       "      <td>-27000000.0</td>\n",
       "    </tr>\n",
       "  </tbody>\n",
       "</table>\n",
       "</div>"
      ],
      "text/plain": [
       "                         title        genres original_language  popularity  \\\n",
       "3813  dragon ball super: broly  multiple_gen                ja       6.868   \n",
       "3814          teefa in trouble  multiple_gen                ur       4.486   \n",
       "3815           fahrenheit 11/9   Documentary                en      10.003   \n",
       "3816           the magic flute         Music                en       0.647   \n",
       "3817           the magic flute         Music                sv       3.208   \n",
       "\n",
       "     release_date_x  vote_average  vote_count release_date_y  \\\n",
       "3813     2019-01-16           7.4         721     2019-01-16   \n",
       "3814     2018-07-20           7.6          11     2018-07-20   \n",
       "3815     2018-09-10           7.1         142     2018-09-21   \n",
       "3816     2006-12-30           9.0           2     2006-12-31   \n",
       "3817     1975-11-11           7.1          28     2006-12-31   \n",
       "\n",
       "      production_budget  worldwide_gross  return_on_investment  \n",
       "3813          8500000.0      122747755.0           114247755.0  \n",
       "3814          1500000.0          98806.0            -1401194.0  \n",
       "3815          5000000.0        6653715.0             1653715.0  \n",
       "3816         27000000.0              0.0           -27000000.0  \n",
       "3817         27000000.0              0.0           -27000000.0  "
      ]
     },
     "execution_count": 56,
     "metadata": {},
     "output_type": "execute_result"
    }
   ],
   "source": [
    "df.tail()"
   ]
  },
  {
   "cell_type": "markdown",
   "metadata": {},
   "source": [
    "# Combined dataframe cleanup"
   ]
  },
  {
   "cell_type": "code",
   "execution_count": 57,
   "metadata": {},
   "outputs": [
    {
     "data": {
      "text/html": [
       "<div>\n",
       "<style scoped>\n",
       "    .dataframe tbody tr th:only-of-type {\n",
       "        vertical-align: middle;\n",
       "    }\n",
       "\n",
       "    .dataframe tbody tr th {\n",
       "        vertical-align: top;\n",
       "    }\n",
       "\n",
       "    .dataframe thead th {\n",
       "        text-align: right;\n",
       "    }\n",
       "</style>\n",
       "<table border=\"1\" class=\"dataframe\">\n",
       "  <thead>\n",
       "    <tr style=\"text-align: right;\">\n",
       "      <th></th>\n",
       "      <th>title</th>\n",
       "      <th>genres</th>\n",
       "      <th>original_language</th>\n",
       "      <th>popularity</th>\n",
       "      <th>release_date_x</th>\n",
       "      <th>vote_average</th>\n",
       "      <th>vote_count</th>\n",
       "      <th>release_date_y</th>\n",
       "      <th>production_budget</th>\n",
       "      <th>worldwide_gross</th>\n",
       "      <th>return_on_investment</th>\n",
       "    </tr>\n",
       "  </thead>\n",
       "  <tbody>\n",
       "    <tr>\n",
       "      <th>3480</th>\n",
       "      <td>#horror</td>\n",
       "      <td>multiple_gen</td>\n",
       "      <td>de</td>\n",
       "      <td>6.099</td>\n",
       "      <td>2015-11-20</td>\n",
       "      <td>3.3</td>\n",
       "      <td>102</td>\n",
       "      <td>2015-11-20</td>\n",
       "      <td>1500000.0</td>\n",
       "      <td>0.0</td>\n",
       "      <td>-1500000.0</td>\n",
       "    </tr>\n",
       "    <tr>\n",
       "      <th>628</th>\n",
       "      <td>10 cloverfield lane</td>\n",
       "      <td>multiple_gen</td>\n",
       "      <td>en</td>\n",
       "      <td>17.892</td>\n",
       "      <td>2016-03-11</td>\n",
       "      <td>6.9</td>\n",
       "      <td>4629</td>\n",
       "      <td>2016-03-11</td>\n",
       "      <td>5000000.0</td>\n",
       "      <td>108286422.0</td>\n",
       "      <td>103286422.0</td>\n",
       "    </tr>\n",
       "    <tr>\n",
       "      <th>3455</th>\n",
       "      <td>10 days in a madhouse</td>\n",
       "      <td>Drama</td>\n",
       "      <td>en</td>\n",
       "      <td>0.955</td>\n",
       "      <td>2015-11-20</td>\n",
       "      <td>5.4</td>\n",
       "      <td>7</td>\n",
       "      <td>2015-11-11</td>\n",
       "      <td>12000000.0</td>\n",
       "      <td>14616.0</td>\n",
       "      <td>-11985384.0</td>\n",
       "    </tr>\n",
       "    <tr>\n",
       "      <th>1010</th>\n",
       "      <td>12 strong</td>\n",
       "      <td>multiple_gen</td>\n",
       "      <td>en</td>\n",
       "      <td>13.183</td>\n",
       "      <td>2018-01-19</td>\n",
       "      <td>5.6</td>\n",
       "      <td>1312</td>\n",
       "      <td>2018-01-19</td>\n",
       "      <td>35000000.0</td>\n",
       "      <td>71118378.0</td>\n",
       "      <td>36118378.0</td>\n",
       "    </tr>\n",
       "    <tr>\n",
       "      <th>2260</th>\n",
       "      <td>12 years a slave</td>\n",
       "      <td>multiple_gen</td>\n",
       "      <td>en</td>\n",
       "      <td>16.493</td>\n",
       "      <td>2013-10-30</td>\n",
       "      <td>7.9</td>\n",
       "      <td>6631</td>\n",
       "      <td>2013-10-18</td>\n",
       "      <td>20000000.0</td>\n",
       "      <td>181025343.0</td>\n",
       "      <td>161025343.0</td>\n",
       "    </tr>\n",
       "  </tbody>\n",
       "</table>\n",
       "</div>"
      ],
      "text/plain": [
       "                      title        genres original_language  popularity  \\\n",
       "3480                #horror  multiple_gen                de       6.099   \n",
       "628     10 cloverfield lane  multiple_gen                en      17.892   \n",
       "3455  10 days in a madhouse         Drama                en       0.955   \n",
       "1010              12 strong  multiple_gen                en      13.183   \n",
       "2260       12 years a slave  multiple_gen                en      16.493   \n",
       "\n",
       "     release_date_x  vote_average  vote_count release_date_y  \\\n",
       "3480     2015-11-20           3.3         102     2015-11-20   \n",
       "628      2016-03-11           6.9        4629     2016-03-11   \n",
       "3455     2015-11-20           5.4           7     2015-11-11   \n",
       "1010     2018-01-19           5.6        1312     2018-01-19   \n",
       "2260     2013-10-30           7.9        6631     2013-10-18   \n",
       "\n",
       "      production_budget  worldwide_gross  return_on_investment  \n",
       "3480          1500000.0              0.0            -1500000.0  \n",
       "628           5000000.0      108286422.0           103286422.0  \n",
       "3455         12000000.0          14616.0           -11985384.0  \n",
       "1010         35000000.0       71118378.0            36118378.0  \n",
       "2260         20000000.0      181025343.0           161025343.0  "
      ]
     },
     "execution_count": 57,
     "metadata": {},
     "output_type": "execute_result"
    }
   ],
   "source": [
    "#Arrange the dataframe in ascending order by their title\n",
    "df = df.sort_values(by='title', ascending=True)\n",
    "df.head()"
   ]
  },
  {
   "cell_type": "markdown",
   "metadata": {},
   "source": [
    "### After combining our datasets, for any duplicate movies, we will only take the first instance where it shows up and group them by the title."
   ]
  },
  {
   "cell_type": "code",
   "execution_count": 58,
   "metadata": {},
   "outputs": [
    {
     "data": {
      "text/html": [
       "<div>\n",
       "<style scoped>\n",
       "    .dataframe tbody tr th:only-of-type {\n",
       "        vertical-align: middle;\n",
       "    }\n",
       "\n",
       "    .dataframe tbody tr th {\n",
       "        vertical-align: top;\n",
       "    }\n",
       "\n",
       "    .dataframe thead th {\n",
       "        text-align: right;\n",
       "    }\n",
       "</style>\n",
       "<table border=\"1\" class=\"dataframe\">\n",
       "  <thead>\n",
       "    <tr style=\"text-align: right;\">\n",
       "      <th></th>\n",
       "      <th>genres</th>\n",
       "      <th>original_language</th>\n",
       "      <th>popularity</th>\n",
       "      <th>release_date_x</th>\n",
       "      <th>vote_average</th>\n",
       "      <th>vote_count</th>\n",
       "      <th>release_date_y</th>\n",
       "      <th>production_budget</th>\n",
       "      <th>worldwide_gross</th>\n",
       "      <th>return_on_investment</th>\n",
       "    </tr>\n",
       "    <tr>\n",
       "      <th>title</th>\n",
       "      <th></th>\n",
       "      <th></th>\n",
       "      <th></th>\n",
       "      <th></th>\n",
       "      <th></th>\n",
       "      <th></th>\n",
       "      <th></th>\n",
       "      <th></th>\n",
       "      <th></th>\n",
       "      <th></th>\n",
       "    </tr>\n",
       "  </thead>\n",
       "  <tbody>\n",
       "    <tr>\n",
       "      <th>#horror</th>\n",
       "      <td>multiple_gen</td>\n",
       "      <td>de</td>\n",
       "      <td>6.099</td>\n",
       "      <td>2015-11-20</td>\n",
       "      <td>3.3</td>\n",
       "      <td>102</td>\n",
       "      <td>2015-11-20</td>\n",
       "      <td>1500000.0</td>\n",
       "      <td>0.0</td>\n",
       "      <td>-1500000.0</td>\n",
       "    </tr>\n",
       "    <tr>\n",
       "      <th>10 cloverfield lane</th>\n",
       "      <td>multiple_gen</td>\n",
       "      <td>en</td>\n",
       "      <td>17.892</td>\n",
       "      <td>2016-03-11</td>\n",
       "      <td>6.9</td>\n",
       "      <td>4629</td>\n",
       "      <td>2016-03-11</td>\n",
       "      <td>5000000.0</td>\n",
       "      <td>108286422.0</td>\n",
       "      <td>103286422.0</td>\n",
       "    </tr>\n",
       "    <tr>\n",
       "      <th>10 days in a madhouse</th>\n",
       "      <td>Drama</td>\n",
       "      <td>en</td>\n",
       "      <td>0.955</td>\n",
       "      <td>2015-11-20</td>\n",
       "      <td>5.4</td>\n",
       "      <td>7</td>\n",
       "      <td>2015-11-11</td>\n",
       "      <td>12000000.0</td>\n",
       "      <td>14616.0</td>\n",
       "      <td>-11985384.0</td>\n",
       "    </tr>\n",
       "    <tr>\n",
       "      <th>12 strong</th>\n",
       "      <td>multiple_gen</td>\n",
       "      <td>en</td>\n",
       "      <td>13.183</td>\n",
       "      <td>2018-01-19</td>\n",
       "      <td>5.6</td>\n",
       "      <td>1312</td>\n",
       "      <td>2018-01-19</td>\n",
       "      <td>35000000.0</td>\n",
       "      <td>71118378.0</td>\n",
       "      <td>36118378.0</td>\n",
       "    </tr>\n",
       "    <tr>\n",
       "      <th>12 years a slave</th>\n",
       "      <td>multiple_gen</td>\n",
       "      <td>en</td>\n",
       "      <td>16.493</td>\n",
       "      <td>2013-10-30</td>\n",
       "      <td>7.9</td>\n",
       "      <td>6631</td>\n",
       "      <td>2013-10-18</td>\n",
       "      <td>20000000.0</td>\n",
       "      <td>181025343.0</td>\n",
       "      <td>161025343.0</td>\n",
       "    </tr>\n",
       "  </tbody>\n",
       "</table>\n",
       "</div>"
      ],
      "text/plain": [
       "                             genres original_language  popularity  \\\n",
       "title                                                               \n",
       "#horror                multiple_gen                de       6.099   \n",
       "10 cloverfield lane    multiple_gen                en      17.892   \n",
       "10 days in a madhouse         Drama                en       0.955   \n",
       "12 strong              multiple_gen                en      13.183   \n",
       "12 years a slave       multiple_gen                en      16.493   \n",
       "\n",
       "                      release_date_x  vote_average  vote_count release_date_y  \\\n",
       "title                                                                           \n",
       "#horror                   2015-11-20           3.3         102     2015-11-20   \n",
       "10 cloverfield lane       2016-03-11           6.9        4629     2016-03-11   \n",
       "10 days in a madhouse     2015-11-20           5.4           7     2015-11-11   \n",
       "12 strong                 2018-01-19           5.6        1312     2018-01-19   \n",
       "12 years a slave          2013-10-30           7.9        6631     2013-10-18   \n",
       "\n",
       "                       production_budget  worldwide_gross  \\\n",
       "title                                                       \n",
       "#horror                        1500000.0              0.0   \n",
       "10 cloverfield lane            5000000.0      108286422.0   \n",
       "10 days in a madhouse         12000000.0          14616.0   \n",
       "12 strong                     35000000.0       71118378.0   \n",
       "12 years a slave              20000000.0      181025343.0   \n",
       "\n",
       "                       return_on_investment  \n",
       "title                                        \n",
       "#horror                          -1500000.0  \n",
       "10 cloverfield lane             103286422.0  \n",
       "10 days in a madhouse           -11985384.0  \n",
       "12 strong                        36118378.0  \n",
       "12 years a slave                161025343.0  "
      ]
     },
     "execution_count": 58,
     "metadata": {},
     "output_type": "execute_result"
    }
   ],
   "source": [
    "#run groupby and take only the first instance of each movie group\n",
    "df = df.groupby('title')\n",
    "df.first()\n",
    "\n",
    "#Assign the values of DataFrameGroupBy object back to the dataframe\n",
    "df = df.first()\n",
    "df.head()"
   ]
  },
  {
   "cell_type": "code",
   "execution_count": 59,
   "metadata": {},
   "outputs": [
    {
     "name": "stdout",
     "output_type": "stream",
     "text": [
      "<class 'pandas.core.frame.DataFrame'>\n",
      "Index: 1834 entries, #horror to zootopia\n",
      "Data columns (total 10 columns):\n",
      " #   Column                Non-Null Count  Dtype         \n",
      "---  ------                --------------  -----         \n",
      " 0   genres                1834 non-null   object        \n",
      " 1   original_language     1834 non-null   object        \n",
      " 2   popularity            1834 non-null   float64       \n",
      " 3   release_date_x        1834 non-null   datetime64[ns]\n",
      " 4   vote_average          1834 non-null   float64       \n",
      " 5   vote_count            1834 non-null   int64         \n",
      " 6   release_date_y        1834 non-null   datetime64[ns]\n",
      " 7   production_budget     1834 non-null   float64       \n",
      " 8   worldwide_gross       1834 non-null   float64       \n",
      " 9   return_on_investment  1834 non-null   float64       \n",
      "dtypes: datetime64[ns](2), float64(5), int64(1), object(2)\n",
      "memory usage: 157.6+ KB\n"
     ]
    }
   ],
   "source": [
    "df.info()"
   ]
  },
  {
   "cell_type": "code",
   "execution_count": 60,
   "metadata": {},
   "outputs": [],
   "source": [
    "# We are only interested in the month of release of the movies and how it affects the return on investment\n",
    "# create a new column 'release_month' and drop the columns 'release_date_x' and 'release_date_y'\n",
    "df['release_month'] = df['release_date_x'].dt.month"
   ]
  },
  {
   "cell_type": "code",
   "execution_count": 61,
   "metadata": {},
   "outputs": [
    {
     "data": {
      "text/plain": [
       "title\n",
       "#horror                  11\n",
       "10 cloverfield lane       3\n",
       "10 days in a madhouse    11\n",
       "12 strong                 1\n",
       "12 years a slave         10\n",
       "Name: release_month, dtype: int64"
      ]
     },
     "execution_count": 61,
     "metadata": {},
     "output_type": "execute_result"
    }
   ],
   "source": [
    "df['release_month'].head()"
   ]
  },
  {
   "cell_type": "code",
   "execution_count": 62,
   "metadata": {},
   "outputs": [],
   "source": [
    "#drop the columns 'release_date_x' and 'release_date_y'\n",
    "df = df.drop(['release_date_x', 'release_date_y'],axis = 1)"
   ]
  },
  {
   "cell_type": "code",
   "execution_count": 63,
   "metadata": {},
   "outputs": [
    {
     "data": {
      "text/html": [
       "<div>\n",
       "<style scoped>\n",
       "    .dataframe tbody tr th:only-of-type {\n",
       "        vertical-align: middle;\n",
       "    }\n",
       "\n",
       "    .dataframe tbody tr th {\n",
       "        vertical-align: top;\n",
       "    }\n",
       "\n",
       "    .dataframe thead th {\n",
       "        text-align: right;\n",
       "    }\n",
       "</style>\n",
       "<table border=\"1\" class=\"dataframe\">\n",
       "  <thead>\n",
       "    <tr style=\"text-align: right;\">\n",
       "      <th></th>\n",
       "      <th>genres</th>\n",
       "      <th>original_language</th>\n",
       "      <th>popularity</th>\n",
       "      <th>vote_average</th>\n",
       "      <th>vote_count</th>\n",
       "      <th>production_budget</th>\n",
       "      <th>worldwide_gross</th>\n",
       "      <th>return_on_investment</th>\n",
       "      <th>release_month</th>\n",
       "    </tr>\n",
       "    <tr>\n",
       "      <th>title</th>\n",
       "      <th></th>\n",
       "      <th></th>\n",
       "      <th></th>\n",
       "      <th></th>\n",
       "      <th></th>\n",
       "      <th></th>\n",
       "      <th></th>\n",
       "      <th></th>\n",
       "      <th></th>\n",
       "    </tr>\n",
       "  </thead>\n",
       "  <tbody>\n",
       "    <tr>\n",
       "      <th>#horror</th>\n",
       "      <td>multiple_gen</td>\n",
       "      <td>de</td>\n",
       "      <td>6.099</td>\n",
       "      <td>3.3</td>\n",
       "      <td>102</td>\n",
       "      <td>1500000.0</td>\n",
       "      <td>0.0</td>\n",
       "      <td>-1500000.0</td>\n",
       "      <td>11</td>\n",
       "    </tr>\n",
       "    <tr>\n",
       "      <th>10 cloverfield lane</th>\n",
       "      <td>multiple_gen</td>\n",
       "      <td>en</td>\n",
       "      <td>17.892</td>\n",
       "      <td>6.9</td>\n",
       "      <td>4629</td>\n",
       "      <td>5000000.0</td>\n",
       "      <td>108286422.0</td>\n",
       "      <td>103286422.0</td>\n",
       "      <td>3</td>\n",
       "    </tr>\n",
       "    <tr>\n",
       "      <th>10 days in a madhouse</th>\n",
       "      <td>Drama</td>\n",
       "      <td>en</td>\n",
       "      <td>0.955</td>\n",
       "      <td>5.4</td>\n",
       "      <td>7</td>\n",
       "      <td>12000000.0</td>\n",
       "      <td>14616.0</td>\n",
       "      <td>-11985384.0</td>\n",
       "      <td>11</td>\n",
       "    </tr>\n",
       "    <tr>\n",
       "      <th>12 strong</th>\n",
       "      <td>multiple_gen</td>\n",
       "      <td>en</td>\n",
       "      <td>13.183</td>\n",
       "      <td>5.6</td>\n",
       "      <td>1312</td>\n",
       "      <td>35000000.0</td>\n",
       "      <td>71118378.0</td>\n",
       "      <td>36118378.0</td>\n",
       "      <td>1</td>\n",
       "    </tr>\n",
       "    <tr>\n",
       "      <th>12 years a slave</th>\n",
       "      <td>multiple_gen</td>\n",
       "      <td>en</td>\n",
       "      <td>16.493</td>\n",
       "      <td>7.9</td>\n",
       "      <td>6631</td>\n",
       "      <td>20000000.0</td>\n",
       "      <td>181025343.0</td>\n",
       "      <td>161025343.0</td>\n",
       "      <td>10</td>\n",
       "    </tr>\n",
       "  </tbody>\n",
       "</table>\n",
       "</div>"
      ],
      "text/plain": [
       "                             genres original_language  popularity  \\\n",
       "title                                                               \n",
       "#horror                multiple_gen                de       6.099   \n",
       "10 cloverfield lane    multiple_gen                en      17.892   \n",
       "10 days in a madhouse         Drama                en       0.955   \n",
       "12 strong              multiple_gen                en      13.183   \n",
       "12 years a slave       multiple_gen                en      16.493   \n",
       "\n",
       "                       vote_average  vote_count  production_budget  \\\n",
       "title                                                                \n",
       "#horror                         3.3         102          1500000.0   \n",
       "10 cloverfield lane             6.9        4629          5000000.0   \n",
       "10 days in a madhouse           5.4           7         12000000.0   \n",
       "12 strong                       5.6        1312         35000000.0   \n",
       "12 years a slave                7.9        6631         20000000.0   \n",
       "\n",
       "                       worldwide_gross  return_on_investment  release_month  \n",
       "title                                                                        \n",
       "#horror                            0.0            -1500000.0             11  \n",
       "10 cloverfield lane        108286422.0           103286422.0              3  \n",
       "10 days in a madhouse          14616.0           -11985384.0             11  \n",
       "12 strong                   71118378.0            36118378.0              1  \n",
       "12 years a slave           181025343.0           161025343.0             10  "
      ]
     },
     "execution_count": 63,
     "metadata": {},
     "output_type": "execute_result"
    }
   ],
   "source": [
    "df.head()"
   ]
  },
  {
   "cell_type": "code",
   "execution_count": 64,
   "metadata": {},
   "outputs": [
    {
     "name": "stdout",
     "output_type": "stream",
     "text": [
      "<class 'pandas.core.frame.DataFrame'>\n",
      "Index: 1834 entries, #horror to zootopia\n",
      "Data columns (total 9 columns):\n",
      " #   Column                Non-Null Count  Dtype  \n",
      "---  ------                --------------  -----  \n",
      " 0   genres                1834 non-null   object \n",
      " 1   original_language     1834 non-null   object \n",
      " 2   popularity            1834 non-null   float64\n",
      " 3   vote_average          1834 non-null   float64\n",
      " 4   vote_count            1834 non-null   int64  \n",
      " 5   production_budget     1834 non-null   float64\n",
      " 6   worldwide_gross       1834 non-null   float64\n",
      " 7   return_on_investment  1834 non-null   float64\n",
      " 8   release_month         1834 non-null   int64  \n",
      "dtypes: float64(5), int64(2), object(2)\n",
      "memory usage: 143.3+ KB\n"
     ]
    }
   ],
   "source": [
    "df.info()"
   ]
  },
  {
   "cell_type": "markdown",
   "metadata": {},
   "source": [
    "# DATA VISUALIZATION"
   ]
  },
  {
   "cell_type": "markdown",
   "metadata": {},
   "source": [
    "What are the trends in the following\n",
    "1. Does the production budget have an impact the return on investment\n",
    "2. Does the release month have an effect on the avarage revenue(worldwide_gross)\n",
    "3. Does the genre of the movie affect the avarage revenue(worldwide_gross)"
   ]
  },
  {
   "cell_type": "markdown",
   "metadata": {},
   "source": [
    "## 1. Production budget vs return in investment\n",
    "Is there a relationship between the amount of money invested and either profit or loss in a movie's worldwide_gross"
   ]
  },
  {
   "cell_type": "code",
   "execution_count": 65,
   "metadata": {},
   "outputs": [],
   "source": [
    "df_budget_analysis = df"
   ]
  },
  {
   "cell_type": "code",
   "execution_count": 66,
   "metadata": {},
   "outputs": [
    {
     "data": {
      "image/png": "[encoded data removed]",
      "text/plain": [
       "<Figure size 1296x576 with 1 Axes>"
      ]
     },
     "metadata": {
      "needs_background": "light"
     },
     "output_type": "display_data"
    }
   ],
   "source": [
    "fig, ax = plt.subplots()\n",
    "fig.set_size_inches(18,8)\n",
    "x = df_budget_analysis[\"production_budget\"]\n",
    "y = df_budget_analysis[\"return_on_investment\"]\n",
    "df_budget_analysis = pd.DataFrame({'x': df_budget_analysis[\"production_budget\"], 'y': df_budget_analysis[\"return_on_investment\"]})\n",
    "plt.xlabel('Budget (In Millions Of U.S. Dollars)', fontsize = 15 , weight ='bold')\n",
    "plt.ylabel('Return On Investment (In Millions Of U.S. Dollars) ', fontsize = 15, weight ='bold')\n",
    "plt.title(\"Production Budget vs Return on Investment\")\n",
    "\n",
    "plt.xticks(fontsize=14, rotation=0)\n",
    "plt.yticks(fontsize=14, rotation=0)\n",
    "ax.scatter(df_budget_analysis.x, df_budget_analysis.y, c=np.sign(df_budget_analysis.y), cmap=\"viridis\")\n",
    "plt.show()\n"
   ]
  },
  {
   "cell_type": "markdown",
   "metadata": {},
   "source": [
    "## Results\n",
    "#### The purple is movies that were a loss and yellow are movies that made a profit. There seems to be a relationship between production cost and return in investment. The movies which had a larger production cost made more money. "
   ]
  },
  {
   "cell_type": "markdown",
   "metadata": {},
   "source": [
    "## 2. Release month vs avarage revenue(worldwide_gross)"
   ]
  },
  {
   "cell_type": "code",
   "execution_count": 67,
   "metadata": {},
   "outputs": [],
   "source": [
    "def group_data_by_mean(data, item_to_groupby, columns):\n",
    "    grouped_data = data.groupby(item_to_groupby)[columns].mean()\n",
    "    new_df = pd.DataFrame(grouped_data)\n",
    "    new_df.reset_index(drop = False, inplace = True)\n",
    "    \n",
    "    return new_df"
   ]
  },
  {
   "cell_type": "code",
   "execution_count": 68,
   "metadata": {},
   "outputs": [
    {
     "data": {
      "text/html": [
       "<div>\n",
       "<style scoped>\n",
       "    .dataframe tbody tr th:only-of-type {\n",
       "        vertical-align: middle;\n",
       "    }\n",
       "\n",
       "    .dataframe tbody tr th {\n",
       "        vertical-align: top;\n",
       "    }\n",
       "\n",
       "    .dataframe thead th {\n",
       "        text-align: right;\n",
       "    }\n",
       "</style>\n",
       "<table border=\"1\" class=\"dataframe\">\n",
       "  <thead>\n",
       "    <tr style=\"text-align: right;\">\n",
       "      <th></th>\n",
       "      <th>release_month</th>\n",
       "      <th>worldwide_gross</th>\n",
       "    </tr>\n",
       "  </thead>\n",
       "  <tbody>\n",
       "    <tr>\n",
       "      <th>0</th>\n",
       "      <td>1</td>\n",
       "      <td>7.069942e+07</td>\n",
       "    </tr>\n",
       "    <tr>\n",
       "      <th>1</th>\n",
       "      <td>2</td>\n",
       "      <td>1.048069e+08</td>\n",
       "    </tr>\n",
       "    <tr>\n",
       "      <th>2</th>\n",
       "      <td>3</td>\n",
       "      <td>9.197600e+07</td>\n",
       "    </tr>\n",
       "    <tr>\n",
       "      <th>3</th>\n",
       "      <td>4</td>\n",
       "      <td>9.848672e+07</td>\n",
       "    </tr>\n",
       "    <tr>\n",
       "      <th>4</th>\n",
       "      <td>5</td>\n",
       "      <td>1.759968e+08</td>\n",
       "    </tr>\n",
       "    <tr>\n",
       "      <th>5</th>\n",
       "      <td>6</td>\n",
       "      <td>1.981968e+08</td>\n",
       "    </tr>\n",
       "    <tr>\n",
       "      <th>6</th>\n",
       "      <td>7</td>\n",
       "      <td>1.764059e+08</td>\n",
       "    </tr>\n",
       "    <tr>\n",
       "      <th>7</th>\n",
       "      <td>8</td>\n",
       "      <td>8.491232e+07</td>\n",
       "    </tr>\n",
       "    <tr>\n",
       "      <th>8</th>\n",
       "      <td>9</td>\n",
       "      <td>6.386149e+07</td>\n",
       "    </tr>\n",
       "    <tr>\n",
       "      <th>9</th>\n",
       "      <td>10</td>\n",
       "      <td>6.474176e+07</td>\n",
       "    </tr>\n",
       "    <tr>\n",
       "      <th>10</th>\n",
       "      <td>11</td>\n",
       "      <td>1.686253e+08</td>\n",
       "    </tr>\n",
       "    <tr>\n",
       "      <th>11</th>\n",
       "      <td>12</td>\n",
       "      <td>1.590217e+08</td>\n",
       "    </tr>\n",
       "  </tbody>\n",
       "</table>\n",
       "</div>"
      ],
      "text/plain": [
       "    release_month  worldwide_gross\n",
       "0               1     7.069942e+07\n",
       "1               2     1.048069e+08\n",
       "2               3     9.197600e+07\n",
       "3               4     9.848672e+07\n",
       "4               5     1.759968e+08\n",
       "5               6     1.981968e+08\n",
       "6               7     1.764059e+08\n",
       "7               8     8.491232e+07\n",
       "8               9     6.386149e+07\n",
       "9              10     6.474176e+07\n",
       "10             11     1.686253e+08\n",
       "11             12     1.590217e+08"
      ]
     },
     "execution_count": 68,
     "metadata": {},
     "output_type": "execute_result"
    }
   ],
   "source": [
    "group_data_by_mean(df,'release_month','worldwide_gross')"
   ]
  },
  {
   "cell_type": "code",
   "execution_count": 69,
   "metadata": {},
   "outputs": [],
   "source": [
    "def plot_value(column):\n",
    "    data = group_data_by_mean(df,'release_month', column)\n",
    "    fig, axs = plt.subplots(figsize=(15, 7))\n",
    "    axs.bar(data['release_month'], data[column])\n",
    "    axs.set_title(f'Plot of release month against {column}', fontsize = 15)\n",
    "    axs.set_xlabel('Release month', fontsize = 15)\n",
    "    axs.set_ylabel(f'Mean of {column}  (Billions of Dollars)', fontsize = 15)"
   ]
  },
  {
   "cell_type": "code",
   "execution_count": 82,
   "metadata": {},
   "outputs": [
    {
     "data": {
      "image/png": "[encoded data removed]",
      "text/plain": [
       "<Figure size 1440x720 with 1 Axes>"
      ]
     },
     "metadata": {},
     "output_type": "display_data"
    }
   ],
   "source": [
    "plot_value('worldwide_gross')\n",
    "plt.grid()"
   ]
  },
  {
   "cell_type": "markdown",
   "metadata": {},
   "source": [
    "# Result\n",
    "#### Movies released in May,June,July gross better worldwide than movies release in August,September,October. The movies in June,July,August made more than double the revenue of movies release in August,September, October. With movies released in June making the most revenue"
   ]
  },
  {
   "cell_type": "markdown",
   "metadata": {},
   "source": [
    "# 3.Movie Genre vs Avarage Revenue(worldwide_gross)"
   ]
  },
  {
   "cell_type": "code",
   "execution_count": 71,
   "metadata": {},
   "outputs": [],
   "source": [
    "genre_grouping = group_data_by_mean(df,'genres','worldwide_gross')"
   ]
  },
  {
   "cell_type": "code",
   "execution_count": 78,
   "metadata": {},
   "outputs": [],
   "source": [
    "def plot_value(column):\n",
    "    data = group_data_by_mean(df,'genres', column)\n",
    "    fig, axs = plt.subplots(figsize=(20, 10))\n",
    "    axs.bar(data['genres'], data[column])\n",
    "    axs.set_title(f'Plot of genres against {column}', fontsize = 15)\n",
    "    axs.set_xlabel('Genres', fontsize = 15)\n",
    "    axs.set_ylabel(f'Mean of {column}  (Billions of Dollars)', fontsize = 15)\n",
    "    plt.grid()"
   ]
  },
  {
   "cell_type": "code",
   "execution_count": 80,
   "metadata": {},
   "outputs": [
    {
     "data": {
      "image/png": "[encoded data removed]",
      "text/plain": [
       "<Figure size 1440x720 with 1 Axes>"
      ]
     },
     "metadata": {},
     "output_type": "display_data"
    }
   ],
   "source": [
    "plot_value('worldwide_gross')\n",
    "plt.grid()"
   ]
  },
  {
   "cell_type": "markdown",
   "metadata": {},
   "source": [
    "# Result\n",
    "Sci-Fi movies bring in the most revenue with animation bringing in the least amount of revenue. It is safer to invest in Sci-Fi movies, followed by musical movies and adventures. Animation, Western and Family brought in the least amount of revenue"
   ]
  },
  {
   "cell_type": "markdown",
   "metadata": {},
   "source": [
    "# Movie language vs Avarage Revenue"
   ]
  },
  {
   "cell_type": "code",
   "execution_count": 75,
   "metadata": {},
   "outputs": [
    {
     "data": {
      "text/html": [
       "<div>\n",
       "<style scoped>\n",
       "    .dataframe tbody tr th:only-of-type {\n",
       "        vertical-align: middle;\n",
       "    }\n",
       "\n",
       "    .dataframe tbody tr th {\n",
       "        vertical-align: top;\n",
       "    }\n",
       "\n",
       "    .dataframe thead th {\n",
       "        text-align: right;\n",
       "    }\n",
       "</style>\n",
       "<table border=\"1\" class=\"dataframe\">\n",
       "  <thead>\n",
       "    <tr style=\"text-align: right;\">\n",
       "      <th></th>\n",
       "      <th>original_language</th>\n",
       "      <th>worldwide_gross</th>\n",
       "    </tr>\n",
       "  </thead>\n",
       "  <tbody>\n",
       "    <tr>\n",
       "      <th>0</th>\n",
       "      <td>da</td>\n",
       "      <td>2.181730e+07</td>\n",
       "    </tr>\n",
       "    <tr>\n",
       "      <th>1</th>\n",
       "      <td>de</td>\n",
       "      <td>1.498421e+06</td>\n",
       "    </tr>\n",
       "    <tr>\n",
       "      <th>2</th>\n",
       "      <td>en</td>\n",
       "      <td>1.213193e+08</td>\n",
       "    </tr>\n",
       "    <tr>\n",
       "      <th>3</th>\n",
       "      <td>es</td>\n",
       "      <td>1.239281e+07</td>\n",
       "    </tr>\n",
       "    <tr>\n",
       "      <th>4</th>\n",
       "      <td>et</td>\n",
       "      <td>1.918620e+05</td>\n",
       "    </tr>\n",
       "    <tr>\n",
       "      <th>5</th>\n",
       "      <td>fa</td>\n",
       "      <td>9.589780e+05</td>\n",
       "    </tr>\n",
       "    <tr>\n",
       "      <th>6</th>\n",
       "      <td>fr</td>\n",
       "      <td>6.790617e+07</td>\n",
       "    </tr>\n",
       "    <tr>\n",
       "      <th>7</th>\n",
       "      <td>gu</td>\n",
       "      <td>3.062898e+07</td>\n",
       "    </tr>\n",
       "    <tr>\n",
       "      <th>8</th>\n",
       "      <td>hi</td>\n",
       "      <td>5.841352e+07</td>\n",
       "    </tr>\n",
       "    <tr>\n",
       "      <th>9</th>\n",
       "      <td>id</td>\n",
       "      <td>1.227316e+06</td>\n",
       "    </tr>\n",
       "    <tr>\n",
       "      <th>10</th>\n",
       "      <td>ja</td>\n",
       "      <td>6.152937e+07</td>\n",
       "    </tr>\n",
       "    <tr>\n",
       "      <th>11</th>\n",
       "      <td>ko</td>\n",
       "      <td>4.411706e+07</td>\n",
       "    </tr>\n",
       "    <tr>\n",
       "      <th>12</th>\n",
       "      <td>lt</td>\n",
       "      <td>3.144440e+05</td>\n",
       "    </tr>\n",
       "    <tr>\n",
       "      <th>13</th>\n",
       "      <td>nl</td>\n",
       "      <td>3.858505e+07</td>\n",
       "    </tr>\n",
       "    <tr>\n",
       "      <th>14</th>\n",
       "      <td>no</td>\n",
       "      <td>0.000000e+00</td>\n",
       "    </tr>\n",
       "    <tr>\n",
       "      <th>15</th>\n",
       "      <td>pl</td>\n",
       "      <td>7.651002e+06</td>\n",
       "    </tr>\n",
       "    <tr>\n",
       "      <th>16</th>\n",
       "      <td>pt</td>\n",
       "      <td>3.276593e+06</td>\n",
       "    </tr>\n",
       "    <tr>\n",
       "      <th>17</th>\n",
       "      <td>ru</td>\n",
       "      <td>3.078678e+08</td>\n",
       "    </tr>\n",
       "    <tr>\n",
       "      <th>18</th>\n",
       "      <td>te</td>\n",
       "      <td>2.635029e+08</td>\n",
       "    </tr>\n",
       "    <tr>\n",
       "      <th>19</th>\n",
       "      <td>tl</td>\n",
       "      <td>2.920673e+07</td>\n",
       "    </tr>\n",
       "    <tr>\n",
       "      <th>20</th>\n",
       "      <td>tr</td>\n",
       "      <td>5.552584e+06</td>\n",
       "    </tr>\n",
       "    <tr>\n",
       "      <th>21</th>\n",
       "      <td>ur</td>\n",
       "      <td>9.880600e+04</td>\n",
       "    </tr>\n",
       "    <tr>\n",
       "      <th>22</th>\n",
       "      <td>zh</td>\n",
       "      <td>9.845380e+07</td>\n",
       "    </tr>\n",
       "  </tbody>\n",
       "</table>\n",
       "</div>"
      ],
      "text/plain": [
       "   original_language  worldwide_gross\n",
       "0                 da     2.181730e+07\n",
       "1                 de     1.498421e+06\n",
       "2                 en     1.213193e+08\n",
       "3                 es     1.239281e+07\n",
       "4                 et     1.918620e+05\n",
       "5                 fa     9.589780e+05\n",
       "6                 fr     6.790617e+07\n",
       "7                 gu     3.062898e+07\n",
       "8                 hi     5.841352e+07\n",
       "9                 id     1.227316e+06\n",
       "10                ja     6.152937e+07\n",
       "11                ko     4.411706e+07\n",
       "12                lt     3.144440e+05\n",
       "13                nl     3.858505e+07\n",
       "14                no     0.000000e+00\n",
       "15                pl     7.651002e+06\n",
       "16                pt     3.276593e+06\n",
       "17                ru     3.078678e+08\n",
       "18                te     2.635029e+08\n",
       "19                tl     2.920673e+07\n",
       "20                tr     5.552584e+06\n",
       "21                ur     9.880600e+04\n",
       "22                zh     9.845380e+07"
      ]
     },
     "execution_count": 75,
     "metadata": {},
     "output_type": "execute_result"
    }
   ],
   "source": [
    "group_data_by_mean(df,'original_language','worldwide_gross')"
   ]
  },
  {
   "cell_type": "code",
   "execution_count": 76,
   "metadata": {},
   "outputs": [],
   "source": [
    "def plot_value(column):\n",
    "    data = group_data_by_mean(df,'original_language', column)\n",
    "    fig, axs = plt.subplots(figsize=(20, 10))\n",
    "    axs.bar(data['original_language'], data[column])\n",
    "    axs.set_title(f'Plot of original language against {column}', fontsize = 15)\n",
    "    axs.set_xlabel('Original Language', fontsize = 15)\n",
    "    axs.set_ylabel(f'Mean of {column}  (Billions of Dollars)', fontsize = 15)"
   ]
  },
  {
   "cell_type": "code",
   "execution_count": 77,
   "metadata": {},
   "outputs": [
    {
     "data": {
      "image/png": "[encoded data removed]",
      "text/plain": [
       "<Figure size 1440x720 with 1 Axes>"
      ]
     },
     "metadata": {},
     "output_type": "display_data"
    }
   ],
   "source": [
    "plot_value('worldwide_gross')"
   ]
  },
  {
   "cell_type": "markdown",
   "metadata": {},
   "source": [
    "## Result\n",
    "Surprisingly movies in the Russian Language made the most amount of revenue followed by those in Telugu which is a language spoken mostly by the Indian people. The movies in these languages brought in twice the revenue of those in the English language. Norwegian and Urdu(national language of Pakistan), brought in the least amount of revenue"
   ]
  },
  {
   "cell_type": "markdown",
   "metadata": {},
   "source": [
    "# Coclusion\n",
    "1. If the investment in production budget is higher the movie is more likely to make more money.\n",
    "2. Movies released in the months of May,June,July brought in the highest amount of revenue, might be because people are out for the summer holiday\n",
    "3. Sci-Fi movies are a better investment than animations or western as they make more revenue worldwide, followed by musical movies and adventures\n",
    "4. Movies in the Russian and Telugu languages brought in the highest amount of revenue"
   ]
  },
  {
   "cell_type": "code",
   "execution_count": null,
   "metadata": {},
   "outputs": [],
   "source": []
  }
 ],
 "metadata": {
  "kernelspec": {
   "display_name": "Python (learn-env)",
   "language": "python",
   "name": "learn-env"
  },
  "language_info": {
   "codemirror_mode": {
    "name": "ipython",
    "version": 3
   },
   "file_extension": ".py",
   "mimetype": "text/x-python",
   "name": "python",
   "nbconvert_exporter": "python",
   "pygments_lexer": "ipython3",
   "version": "3.8.5"
  }
 },
 "nbformat": 4,
 "nbformat_minor": 4
}
