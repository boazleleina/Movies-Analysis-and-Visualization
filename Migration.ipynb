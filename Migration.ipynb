{
  "nbformat": 4,
  "nbformat_minor": 0,
  "metadata": {
    "colab": {
      "provenance": [],
      "collapsed_sections": [],
      "authorship_tag": "ABX9TyMpbLNbRRoZyQAq/kVcHxP+",
      "include_colab_link": true
    },
    "kernelspec": {
      "name": "python3",
      "display_name": "Python 3"
    },
    "language_info": {
      "name": "python"
    }
  },
  "cells": [
    {
      "cell_type": "markdown",
      "metadata": {
        "id": "view-in-github",
        "colab_type": "text"
      },
      "source": [
        "<a href=\"https://colab.research.google.com/github/boazleleina/Phase-1-Project/blob/main/Migration.ipynb\" target=\"_parent\"><img src=\"https://colab.research.google.com/assets/colab-badge.svg\" alt=\"Open In Colab\"/></a>"
      ]
    },
    {
      "cell_type": "markdown",
      "source": [
        "# **PASTROLISTS MIGRATION IN KENYA**\n",
        "## **Introduction**\n",
        "\n",
        "Wikipedia defines Pastrolism as \" a form of animal husbandry where domesticated animals are released onto large vegetated outdoor lands for grazing, historically by nomadic people who moved around with their herds.\"\n",
        "In Kenya a majority of tribes in the northern part of Kenya including but not limited to; Samburu, Turkana, Pokot, Borana, Somali, Maasai, Nchamus among others, are pastrolists.[According to a report by Int'l Crops Research Institute for the Semi-Arid Tropics(ICRISAT)](https://reliefweb.int/report/kenya/kenyan-pastoralists-how-changing-livestock-markets-could-reduce-conflict#:~:text=Over%20nine%20million%20Kenyans%20are,food%2C%20health%2C%20and%20wealth.) there are over nine million pastoralists out of a total population of 50 million Kenyans, and according to a paper by D. M. Nyariki & D. A. Amwata on [\"The value of pastoralism in Kenya: Application of total economic value approach\"](https://pastoralismjournal.springeropen.com/articles/10.1186/s13570-019-0144-x) the livestock have an economic worth of US$1.13 billion.\n",
        "\n",
        "Because of the nomadic nature of the people and their movement throughout the year to find pasture for their animals, some negative effects have risen:\n",
        "\n",
        "1. Cattle rustling\n",
        "\n",
        "> This is the act of stealing animals from other communities. The situation is getting worse as migration increases, with the Institute for Security Studies declaring it [a form of organised crime](https://issafrica.org/iss-today/cattle-rustling-from-cultural-practice-to-deadly-organised-crime). Reports of loss of lives have become a common occurence with as many as 125 people killed at a time. Security personnel in Kenya have also lost their in the process of tracking the animals and perpetrators of the crime. One of the unfortunate sad stories is where 40 officers were ambushed and killed in Suguta Valley. With competition for limited resources and access to dangerous weapons becoming easier this situation is only escalating. Where before the communities depended on traditional methods of fighting like Spears and arrrows, they now have access to guns and other dangerous weapons leading to a dramatic rise in loss of innocent lives.\n",
        "\n",
        "2. Effects on Environment\n",
        "\n",
        "\n",
        "> Pastrolist communities have in total above 10,000 animals between them, that they move with in search of pasture throughout the  year. This has a negative impact on the environment with factors like emissions of GHG, expansion of pastureland through deforestation, erosion and degradation of soil, air and water quality. A paper written by, Md E. Uddin and Ermias Kebreab, [(Review: Impact of Food and Climate Change on Pastoral Industries)](https://www.frontiersin.org/articles/10.3389/fsufs.2020.543403/full#:~:text=The%20pastoral%20industry%20also%20impacts,and%20air%20and%20water%20quality.), states that the current food system is under pressure to satisfy the needs of the increasing population with already limited natural resources particularly land and water, and now increasingly under pressure due to climate change. Further, it states that, the carrying capacity of pastured land is limited; therefore, increasing animal numbers may cause environmental degradation and loss of productivity from pastoral industries. Over the years, increased desertification in ASAL ( Arid and Semi-Arid Lands) in Kenya has put more strain on an already volatile situation.\n",
        "\n",
        "\n",
        "3. Health Concerns\n",
        "\n",
        "\n",
        "> According to a [report by Center of Disease Control and Prevention, published in 2012](https://www.cdc.gov/globalhealth/countries/kenya/blog/nomadic_pastoralists.htm#:~:text=Kenya%20is%20home%20to%20many,Pokots%2C%20Samburu%2C%20and%20others.); Mobile populations face a unique set of challenges, particularly in accessing health care services designed for more stable, sedentary populations. Grazing areas can be far from towns and villages, and frequent movement makes it difficult for nurses and doctors to plan outreach activities to these temporary camps in “hard-to-reach” areas. As a result, pastoralist children can miss routine services, such as immunizations, which are offered regularly in health facilities. Moreover, because of constant movement and cattle rustling, there is a rapid spread of diseases among the animals. One of the diseases, pointed out by Joshua Onono(Department of Public Health Pharmacology and Toxicology, University of Nairobi, Nairobi, 00625, Kenya) , Penina Mutua (Department of Public Health Pharmacology and Toxicology, University of Nairobi, Nairobi, 00625, Kenya) in a [research paper published to National Library of Medicine](https://www.ncbi.nlm.nih.gov/pmc/articles/PMC7642991/), is Brucellosis. Brucellosis, a neglected zoonotic disease is highly prevalent in these areas with an estimated 16% of livestock population in sub-Saharan Africa infected with the disease. This situation is exacerbated by the nomadic practices.\n",
        "\n",
        "\n",
        "## **Problem Formulation**\n",
        "\n",
        "The government of Kenya and NGOs like UN and UNICEF need a way to predict movement of the pastrolists in order to organise resource allocation like delivery of vaccines to children and animals. Also, the government could use this information to set up security zones with enough security personnel to help stop the ever growing problem of cattle rustling and loss of lives. Further, red flags can be raised on issues around environmental conservation and climate change in areas where there is a lot of movement. This will help in creating solutions around managing the number of people and animals in a specific area while introducing crops that will slow soil erosion, and afforestation. There are three main approaches that provide informed guesses about future migration trends. These include the following:\n",
        "1. Early Warnings System: \n",
        "\n",
        "\n",
        "> Uses quantitative and qualitative data to monitor potential drivers and movements of populations in real time to provide short-term estimations in fast-changing contexts [(Carammia and Dumont, 2018)](https://www.oecd.org/els/mig/migration-policy-debate-16.pdf). These systems establish pre-defined warning thresholds, that when exceeded, trigger specific actions to be taken by designated individuals.\n",
        "\n",
        "2. Forecasting: \n",
        "\n",
        "\n",
        "> Predicts future migration flows and trends using quantitative modelling methods with a medium and long-term horizon [(Bijak, 2011; Disney, 2015)](https://www.springer.com/gp/book/9789048188963). This approach statistically models future migration trends based on quantitative data from the past. This type of modeling needs a significant amount of numerical data related to migration such as policy changes and past inflows and outflows of migrants by location.\n",
        "\n",
        "3. Foresight:\n",
        "\n",
        "\n",
        "> Uses qualitative scenario methods like “What if… to describe future migration flows and trends. Migration scenarios are qualitative narratives about the future of migration that examine possible structural changes and their consequences for migration [(Vezzoli et al., 2017; De Haas et al. 2010)](https://www.migrationinstitute.org/publications/global-migration-futures-exploring-the-future-of-international-migration-with-a-scenario-methodology).\n",
        "\n",
        "\n",
        "\n",
        "\n",
        "\n",
        "\n",
        "\n",
        "\n",
        "\n",
        "\n",
        "\n",
        "\n"
      ],
      "metadata": {
        "id": "pO37mqxPjgU5"
      }
    },
    {
      "cell_type": "markdown",
      "source": [
        "# **Predicting Migration of Pastrolists using Machine Learning**\n",
        "\n",
        "\n",
        "*   We will use data from a selected area of 6000 square kilometers in the ASAL(Arid and Semi-Arid Lands) region in Kenya for our model. \n",
        "\n",
        "> ***More about the ASAL region*** [here](https://www.asals.go.ke/asal-info/).\n",
        "\n",
        "\n",
        "*  The objective of this program is to predict migration of pastrolists in this area for future time periods\n",
        "\n",
        "\n",
        "We will be using *Random Forrest Regressor model* with our data for this prediction.\n",
        "\n",
        "### **STEPS**\n",
        "1. Import the required software libraries.\n",
        "\n",
        "2. Access and import the dataset.\n",
        "\n",
        "3. Data Analysis and Exploration.\n",
        "\n",
        "4. Split the data into test and training data sets.\n",
        "\n",
        "5. Train the model on the training data.\n",
        "\n",
        "6. Make predictions on the test data.\n",
        "\n",
        "7. Evaluate the model’s performance.\n",
        "\n",
        "8. Draw conclusions from evaluations.\n",
        "\n",
        "### **DATASET**\n",
        "This dataset includes the following features:\n",
        "1. Movement - \n",
        "\n",
        "> This includes \"Arrivals\" and \"Depatures\" into the area\n",
        "\n",
        "2. Location - \n",
        "\n",
        "> Location from where people arrived into to our selected area ( Movement = \"Arrivals\") or to where they left the area for ( Movement = \"Departures\"). Contains special values \"Not Stated\".\n",
        "\n",
        "3. Community - \n",
        "\n",
        "\n",
        "> The community of the pastrolists, including \"Borana\", \"Samburu\", and \"Multi\"( This is inclusive of Turkana, Pokot and a few Kalenjin).\n",
        "\n",
        "4. Year - \n",
        "\n",
        "\n",
        "> Year of Movement\n",
        "\n",
        "5. Value - \n",
        "\n",
        "\n",
        "> Number of Pastrolists( They are counted as individuals of all ages in the area of study)\n",
        "\n",
        "\n",
        "\n",
        "\n",
        "\n",
        "\n",
        "\n"
      ],
      "metadata": {
        "id": "rhPaGBNoRnVH"
      }
    },
    {
      "cell_type": "markdown",
      "source": [
        "**Import the required software Libraries**"
      ],
      "metadata": {
        "id": "EHGUKMLQaXWV"
      }
    },
    {
      "cell_type": "code",
      "execution_count": 63,
      "metadata": {
        "id": "Sry8hmuMXJq4"
      },
      "outputs": [],
      "source": [
        "import pandas as pd\n",
        "from sklearn.model_selection import train_test_split\n",
        "from sklearn import svm \n",
        "import seaborn as sns \n",
        "import matplotlib.pyplot as plt\n",
        "import warnings\n",
        "warnings.filterwarnings('ignore')\n",
        "from sklearn.metrics import mean_squared_error\n",
        "import numpy as np\n",
        "from sklearn.naive_bayes import GaussianNB\n",
        "from sklearn.ensemble import RandomForestRegressor"
      ]
    },
    {
      "cell_type": "markdown",
      "source": [
        "**Access and Import the Data Set**"
      ],
      "metadata": {
        "id": "xKQ8T24taj-g"
      }
    },
    {
      "cell_type": "code",
      "source": [
        "from google.colab import files # Use to load data on Google Colab\n",
        "uploaded = files.upload() # Use to load data on Google Colab"
      ],
      "metadata": {
        "colab": {
          "base_uri": "https://localhost:8080/",
          "height": 73
        },
        "id": "v7BgmsoDXerx",
        "outputId": "16d05b1f-ac8b-46cf-865f-2c25f870aa27"
      },
      "execution_count": 37,
      "outputs": [
        {
          "output_type": "display_data",
          "data": {
            "text/plain": [
              "<IPython.core.display.HTML object>"
            ],
            "text/html": [
              "\n",
              "     <input type=\"file\" id=\"files-a5998f88-e7c8-4d1a-aadc-b0b6b081f4ab\" name=\"files[]\" multiple disabled\n",
              "        style=\"border:none\" />\n",
              "     <output id=\"result-a5998f88-e7c8-4d1a-aadc-b0b6b081f4ab\">\n",
              "      Upload widget is only available when the cell has been executed in the\n",
              "      current browser session. Please rerun this cell to enable.\n",
              "      </output>\n",
              "      <script>// Copyright 2017 Google LLC\n",
              "//\n",
              "// Licensed under the Apache License, Version 2.0 (the \"License\");\n",
              "// you may not use this file except in compliance with the License.\n",
              "// You may obtain a copy of the License at\n",
              "//\n",
              "//      http://www.apache.org/licenses/LICENSE-2.0\n",
              "//\n",
              "// Unless required by applicable law or agreed to in writing, software\n",
              "// distributed under the License is distributed on an \"AS IS\" BASIS,\n",
              "// WITHOUT WARRANTIES OR CONDITIONS OF ANY KIND, either express or implied.\n",
              "// See the License for the specific language governing permissions and\n",
              "// limitations under the License.\n",
              "\n",
              "/**\n",
              " * @fileoverview Helpers for google.colab Python module.\n",
              " */\n",
              "(function(scope) {\n",
              "function span(text, styleAttributes = {}) {\n",
              "  const element = document.createElement('span');\n",
              "  element.textContent = text;\n",
              "  for (const key of Object.keys(styleAttributes)) {\n",
              "    element.style[key] = styleAttributes[key];\n",
              "  }\n",
              "  return element;\n",
              "}\n",
              "\n",
              "// Max number of bytes which will be uploaded at a time.\n",
              "const MAX_PAYLOAD_SIZE = 100 * 1024;\n",
              "\n",
              "function _uploadFiles(inputId, outputId) {\n",
              "  const steps = uploadFilesStep(inputId, outputId);\n",
              "  const outputElement = document.getElementById(outputId);\n",
              "  // Cache steps on the outputElement to make it available for the next call\n",
              "  // to uploadFilesContinue from Python.\n",
              "  outputElement.steps = steps;\n",
              "\n",
              "  return _uploadFilesContinue(outputId);\n",
              "}\n",
              "\n",
              "// This is roughly an async generator (not supported in the browser yet),\n",
              "// where there are multiple asynchronous steps and the Python side is going\n",
              "// to poll for completion of each step.\n",
              "// This uses a Promise to block the python side on completion of each step,\n",
              "// then passes the result of the previous step as the input to the next step.\n",
              "function _uploadFilesContinue(outputId) {\n",
              "  const outputElement = document.getElementById(outputId);\n",
              "  const steps = outputElement.steps;\n",
              "\n",
              "  const next = steps.next(outputElement.lastPromiseValue);\n",
              "  return Promise.resolve(next.value.promise).then((value) => {\n",
              "    // Cache the last promise value to make it available to the next\n",
              "    // step of the generator.\n",
              "    outputElement.lastPromiseValue = value;\n",
              "    return next.value.response;\n",
              "  });\n",
              "}\n",
              "\n",
              "/**\n",
              " * Generator function which is called between each async step of the upload\n",
              " * process.\n",
              " * @param {string} inputId Element ID of the input file picker element.\n",
              " * @param {string} outputId Element ID of the output display.\n",
              " * @return {!Iterable<!Object>} Iterable of next steps.\n",
              " */\n",
              "function* uploadFilesStep(inputId, outputId) {\n",
              "  const inputElement = document.getElementById(inputId);\n",
              "  inputElement.disabled = false;\n",
              "\n",
              "  const outputElement = document.getElementById(outputId);\n",
              "  outputElement.innerHTML = '';\n",
              "\n",
              "  const pickedPromise = new Promise((resolve) => {\n",
              "    inputElement.addEventListener('change', (e) => {\n",
              "      resolve(e.target.files);\n",
              "    });\n",
              "  });\n",
              "\n",
              "  const cancel = document.createElement('button');\n",
              "  inputElement.parentElement.appendChild(cancel);\n",
              "  cancel.textContent = 'Cancel upload';\n",
              "  const cancelPromise = new Promise((resolve) => {\n",
              "    cancel.onclick = () => {\n",
              "      resolve(null);\n",
              "    };\n",
              "  });\n",
              "\n",
              "  // Wait for the user to pick the files.\n",
              "  const files = yield {\n",
              "    promise: Promise.race([pickedPromise, cancelPromise]),\n",
              "    response: {\n",
              "      action: 'starting',\n",
              "    }\n",
              "  };\n",
              "\n",
              "  cancel.remove();\n",
              "\n",
              "  // Disable the input element since further picks are not allowed.\n",
              "  inputElement.disabled = true;\n",
              "\n",
              "  if (!files) {\n",
              "    return {\n",
              "      response: {\n",
              "        action: 'complete',\n",
              "      }\n",
              "    };\n",
              "  }\n",
              "\n",
              "  for (const file of files) {\n",
              "    const li = document.createElement('li');\n",
              "    li.append(span(file.name, {fontWeight: 'bold'}));\n",
              "    li.append(span(\n",
              "        `(${file.type || 'n/a'}) - ${file.size} bytes, ` +\n",
              "        `last modified: ${\n",
              "            file.lastModifiedDate ? file.lastModifiedDate.toLocaleDateString() :\n",
              "                                    'n/a'} - `));\n",
              "    const percent = span('0% done');\n",
              "    li.appendChild(percent);\n",
              "\n",
              "    outputElement.appendChild(li);\n",
              "\n",
              "    const fileDataPromise = new Promise((resolve) => {\n",
              "      const reader = new FileReader();\n",
              "      reader.onload = (e) => {\n",
              "        resolve(e.target.result);\n",
              "      };\n",
              "      reader.readAsArrayBuffer(file);\n",
              "    });\n",
              "    // Wait for the data to be ready.\n",
              "    let fileData = yield {\n",
              "      promise: fileDataPromise,\n",
              "      response: {\n",
              "        action: 'continue',\n",
              "      }\n",
              "    };\n",
              "\n",
              "    // Use a chunked sending to avoid message size limits. See b/62115660.\n",
              "    let position = 0;\n",
              "    do {\n",
              "      const length = Math.min(fileData.byteLength - position, MAX_PAYLOAD_SIZE);\n",
              "      const chunk = new Uint8Array(fileData, position, length);\n",
              "      position += length;\n",
              "\n",
              "      const base64 = btoa(String.fromCharCode.apply(null, chunk));\n",
              "      yield {\n",
              "        response: {\n",
              "          action: 'append',\n",
              "          file: file.name,\n",
              "          data: base64,\n",
              "        },\n",
              "      };\n",
              "\n",
              "      let percentDone = fileData.byteLength === 0 ?\n",
              "          100 :\n",
              "          Math.round((position / fileData.byteLength) * 100);\n",
              "      percent.textContent = `${percentDone}% done`;\n",
              "\n",
              "    } while (position < fileData.byteLength);\n",
              "  }\n",
              "\n",
              "  // All done.\n",
              "  yield {\n",
              "    response: {\n",
              "      action: 'complete',\n",
              "    }\n",
              "  };\n",
              "}\n",
              "\n",
              "scope.google = scope.google || {};\n",
              "scope.google.colab = scope.google.colab || {};\n",
              "scope.google.colab._files = {\n",
              "  _uploadFiles,\n",
              "  _uploadFilesContinue,\n",
              "};\n",
              "})(self);\n",
              "</script> "
            ]
          },
          "metadata": {}
        },
        {
          "output_type": "stream",
          "name": "stdout",
          "text": [
            "Saving pastrolist_migration.csv to pastrolist_migration.csv\n"
          ]
        }
      ]
    },
    {
      "cell_type": "code",
      "source": [
        "df = pd.read_csv('pastrolist_migration.csv')"
      ],
      "metadata": {
        "id": "Th_qOALoXlfX"
      },
      "execution_count": 38,
      "outputs": []
    },
    {
      "cell_type": "markdown",
      "source": [
        "**Data Analysis and Exploration**"
      ],
      "metadata": {
        "id": "iPu1_3kNaxBb"
      }
    },
    {
      "cell_type": "code",
      "source": [
        "df.head(5)"
      ],
      "metadata": {
        "colab": {
          "base_uri": "https://localhost:8080/",
          "height": 206
        },
        "id": "P1L27l7tX_xw",
        "outputId": "9350ceab-343a-4d99-f62d-3c9dc90ec34c"
      },
      "execution_count": 39,
      "outputs": [
        {
          "output_type": "execute_result",
          "data": {
            "text/plain": [
              "   Movement Location Community  Year   People\n",
              "0  Arrivals    Dandu    Borana  1996   9256.0\n",
              "1  Arrivals    Dandu     Multi  1996   4527.0\n",
              "2  Arrivals    Dandu   Samburu  1996  17853.0\n",
              "3  Arrivals   Gither    Borana  1996      0.0\n",
              "4  Arrivals   Gither     Multi  1996      0.0"
            ],
            "text/html": [
              "\n",
              "  <div id=\"df-38b2ecb1-f755-4c95-b3d0-089f8581cfc0\">\n",
              "    <div class=\"colab-df-container\">\n",
              "      <div>\n",
              "<style scoped>\n",
              "    .dataframe tbody tr th:only-of-type {\n",
              "        vertical-align: middle;\n",
              "    }\n",
              "\n",
              "    .dataframe tbody tr th {\n",
              "        vertical-align: top;\n",
              "    }\n",
              "\n",
              "    .dataframe thead th {\n",
              "        text-align: right;\n",
              "    }\n",
              "</style>\n",
              "<table border=\"1\" class=\"dataframe\">\n",
              "  <thead>\n",
              "    <tr style=\"text-align: right;\">\n",
              "      <th></th>\n",
              "      <th>Movement</th>\n",
              "      <th>Location</th>\n",
              "      <th>Community</th>\n",
              "      <th>Year</th>\n",
              "      <th>People</th>\n",
              "    </tr>\n",
              "  </thead>\n",
              "  <tbody>\n",
              "    <tr>\n",
              "      <th>0</th>\n",
              "      <td>Arrivals</td>\n",
              "      <td>Dandu</td>\n",
              "      <td>Borana</td>\n",
              "      <td>1996</td>\n",
              "      <td>9256.0</td>\n",
              "    </tr>\n",
              "    <tr>\n",
              "      <th>1</th>\n",
              "      <td>Arrivals</td>\n",
              "      <td>Dandu</td>\n",
              "      <td>Multi</td>\n",
              "      <td>1996</td>\n",
              "      <td>4527.0</td>\n",
              "    </tr>\n",
              "    <tr>\n",
              "      <th>2</th>\n",
              "      <td>Arrivals</td>\n",
              "      <td>Dandu</td>\n",
              "      <td>Samburu</td>\n",
              "      <td>1996</td>\n",
              "      <td>17853.0</td>\n",
              "    </tr>\n",
              "    <tr>\n",
              "      <th>3</th>\n",
              "      <td>Arrivals</td>\n",
              "      <td>Gither</td>\n",
              "      <td>Borana</td>\n",
              "      <td>1996</td>\n",
              "      <td>0.0</td>\n",
              "    </tr>\n",
              "    <tr>\n",
              "      <th>4</th>\n",
              "      <td>Arrivals</td>\n",
              "      <td>Gither</td>\n",
              "      <td>Multi</td>\n",
              "      <td>1996</td>\n",
              "      <td>0.0</td>\n",
              "    </tr>\n",
              "  </tbody>\n",
              "</table>\n",
              "</div>\n",
              "      <button class=\"colab-df-convert\" onclick=\"convertToInteractive('df-38b2ecb1-f755-4c95-b3d0-089f8581cfc0')\"\n",
              "              title=\"Convert this dataframe to an interactive table.\"\n",
              "              style=\"display:none;\">\n",
              "        \n",
              "  <svg xmlns=\"http://www.w3.org/2000/svg\" height=\"24px\"viewBox=\"0 0 24 24\"\n",
              "       width=\"24px\">\n",
              "    <path d=\"M0 0h24v24H0V0z\" fill=\"none\"/>\n",
              "    <path d=\"M18.56 5.44l.94 2.06.94-2.06 2.06-.94-2.06-.94-.94-2.06-.94 2.06-2.06.94zm-11 1L8.5 8.5l.94-2.06 2.06-.94-2.06-.94L8.5 2.5l-.94 2.06-2.06.94zm10 10l.94 2.06.94-2.06 2.06-.94-2.06-.94-.94-2.06-.94 2.06-2.06.94z\"/><path d=\"M17.41 7.96l-1.37-1.37c-.4-.4-.92-.59-1.43-.59-.52 0-1.04.2-1.43.59L10.3 9.45l-7.72 7.72c-.78.78-.78 2.05 0 2.83L4 21.41c.39.39.9.59 1.41.59.51 0 1.02-.2 1.41-.59l7.78-7.78 2.81-2.81c.8-.78.8-2.07 0-2.86zM5.41 20L4 18.59l7.72-7.72 1.47 1.35L5.41 20z\"/>\n",
              "  </svg>\n",
              "      </button>\n",
              "      \n",
              "  <style>\n",
              "    .colab-df-container {\n",
              "      display:flex;\n",
              "      flex-wrap:wrap;\n",
              "      gap: 12px;\n",
              "    }\n",
              "\n",
              "    .colab-df-convert {\n",
              "      background-color: #E8F0FE;\n",
              "      border: none;\n",
              "      border-radius: 50%;\n",
              "      cursor: pointer;\n",
              "      display: none;\n",
              "      fill: #1967D2;\n",
              "      height: 32px;\n",
              "      padding: 0 0 0 0;\n",
              "      width: 32px;\n",
              "    }\n",
              "\n",
              "    .colab-df-convert:hover {\n",
              "      background-color: #E2EBFA;\n",
              "      box-shadow: 0px 1px 2px rgba(60, 64, 67, 0.3), 0px 1px 3px 1px rgba(60, 64, 67, 0.15);\n",
              "      fill: #174EA6;\n",
              "    }\n",
              "\n",
              "    [theme=dark] .colab-df-convert {\n",
              "      background-color: #3B4455;\n",
              "      fill: #D2E3FC;\n",
              "    }\n",
              "\n",
              "    [theme=dark] .colab-df-convert:hover {\n",
              "      background-color: #434B5C;\n",
              "      box-shadow: 0px 1px 3px 1px rgba(0, 0, 0, 0.15);\n",
              "      filter: drop-shadow(0px 1px 2px rgba(0, 0, 0, 0.3));\n",
              "      fill: #FFFFFF;\n",
              "    }\n",
              "  </style>\n",
              "\n",
              "      <script>\n",
              "        const buttonEl =\n",
              "          document.querySelector('#df-38b2ecb1-f755-4c95-b3d0-089f8581cfc0 button.colab-df-convert');\n",
              "        buttonEl.style.display =\n",
              "          google.colab.kernel.accessAllowed ? 'block' : 'none';\n",
              "\n",
              "        async function convertToInteractive(key) {\n",
              "          const element = document.querySelector('#df-38b2ecb1-f755-4c95-b3d0-089f8581cfc0');\n",
              "          const dataTable =\n",
              "            await google.colab.kernel.invokeFunction('convertToInteractive',\n",
              "                                                     [key], {});\n",
              "          if (!dataTable) return;\n",
              "\n",
              "          const docLinkHtml = 'Like what you see? Visit the ' +\n",
              "            '<a target=\"_blank\" href=https://colab.research.google.com/notebooks/data_table.ipynb>data table notebook</a>'\n",
              "            + ' to learn more about interactive tables.';\n",
              "          element.innerHTML = '';\n",
              "          dataTable['output_type'] = 'display_data';\n",
              "          await google.colab.output.renderOutput(dataTable, element);\n",
              "          const docLink = document.createElement('div');\n",
              "          docLink.innerHTML = docLinkHtml;\n",
              "          element.appendChild(docLink);\n",
              "        }\n",
              "      </script>\n",
              "    </div>\n",
              "  </div>\n",
              "  "
            ]
          },
          "metadata": {},
          "execution_count": 39
        }
      ]
    },
    {
      "cell_type": "code",
      "source": [
        "df.info()"
      ],
      "metadata": {
        "colab": {
          "base_uri": "https://localhost:8080/"
        },
        "id": "aOjSzmQMYKeW",
        "outputId": "d33927a0-a519-4ccb-aac4-229bd9873a4a"
      },
      "execution_count": 40,
      "outputs": [
        {
          "output_type": "stream",
          "name": "stdout",
          "text": [
            "<class 'pandas.core.frame.DataFrame'>\n",
            "RangeIndex: 31878 entries, 0 to 31877\n",
            "Data columns (total 5 columns):\n",
            " #   Column     Non-Null Count  Dtype  \n",
            "---  ------     --------------  -----  \n",
            " 0   Movement   31878 non-null  object \n",
            " 1   Location   31878 non-null  object \n",
            " 2   Community  31878 non-null  object \n",
            " 3   Year       31878 non-null  int64  \n",
            " 4   People     31830 non-null  float64\n",
            "dtypes: float64(1), int64(1), object(3)\n",
            "memory usage: 1.2+ MB\n"
          ]
        }
      ]
    },
    {
      "cell_type": "markdown",
      "source": [
        "There are 31,878 migration records and 5 columns. Data types incluse object, integer and float"
      ],
      "metadata": {
        "id": "0lfZCcPObBiV"
      }
    },
    {
      "cell_type": "code",
      "source": [
        "#Check for missing values in the dataset\n",
        "df.isna().sum()"
      ],
      "metadata": {
        "colab": {
          "base_uri": "https://localhost:8080/"
        },
        "id": "P7qyH9q9YqYf",
        "outputId": "ac0e8280-334c-4b98-c7ff-e01aaf38ba47"
      },
      "execution_count": 41,
      "outputs": [
        {
          "output_type": "execute_result",
          "data": {
            "text/plain": [
              "Movement      0\n",
              "Location      0\n",
              "Community     0\n",
              "Year          0\n",
              "People       48\n",
              "dtype: int64"
            ]
          },
          "metadata": {},
          "execution_count": 41
        }
      ]
    },
    {
      "cell_type": "markdown",
      "source": [
        "There are 48 missing values or null values. We will replace these missing values with the median values"
      ],
      "metadata": {
        "id": "1QllxOG6bjDh"
      }
    },
    {
      "cell_type": "code",
      "source": [
        "df[\"People\"].fillna(df[\"People\"].median(),inplace=True)"
      ],
      "metadata": {
        "id": "r8zInU5TYyuY"
      },
      "execution_count": 42,
      "outputs": []
    },
    {
      "cell_type": "markdown",
      "source": [
        "Check for Unique values in the Movement column"
      ],
      "metadata": {
        "id": "oSdrPwf3bzPt"
      }
    },
    {
      "cell_type": "code",
      "source": [
        "df['Movement'].unique()"
      ],
      "metadata": {
        "colab": {
          "base_uri": "https://localhost:8080/"
        },
        "id": "F2dPrsqNY9of",
        "outputId": "27ffc344-a58d-42e5-8609-23d59e81c18c"
      },
      "execution_count": 44,
      "outputs": [
        {
          "output_type": "execute_result",
          "data": {
            "text/plain": [
              "array(['Arrivals', 'Departures'], dtype=object)"
            ]
          },
          "metadata": {},
          "execution_count": 44
        }
      ]
    },
    {
      "cell_type": "markdown",
      "source": [
        "We need to translate some categorical data in preparation for running the machine learning model. First we will replace each of the unique string values in the Measure column with an integer value. Arrivals will have a value of 0, Departures will have a value of 1"
      ],
      "metadata": {
        "id": "C0DA4Iq8cC7L"
      }
    },
    {
      "cell_type": "code",
      "source": [
        "df['Movement'].replace(\"Arrivals\",0,inplace=True)\n",
        "df['Movement'].replace(\"Departures\",1,inplace=True)"
      ],
      "metadata": {
        "id": "qkWG_ceKZCWa"
      },
      "execution_count": 45,
      "outputs": []
    },
    {
      "cell_type": "code",
      "source": [
        "df.head(5)"
      ],
      "metadata": {
        "colab": {
          "base_uri": "https://localhost:8080/",
          "height": 206
        },
        "id": "glqj2oD7k5lH",
        "outputId": "a1d6453d-dd86-4e06-930e-48649c705911"
      },
      "execution_count": 46,
      "outputs": [
        {
          "output_type": "execute_result",
          "data": {
            "text/plain": [
              "   Movement Location Community  Year   People\n",
              "0         0    Dandu    Borana  1996   9256.0\n",
              "1         0    Dandu     Multi  1996   4527.0\n",
              "2         0    Dandu   Samburu  1996  17853.0\n",
              "3         0   Gither    Borana  1996      0.0\n",
              "4         0   Gither     Multi  1996      0.0"
            ],
            "text/html": [
              "\n",
              "  <div id=\"df-e4b70e65-aabb-40ea-a2b9-b9e0cd407fe9\">\n",
              "    <div class=\"colab-df-container\">\n",
              "      <div>\n",
              "<style scoped>\n",
              "    .dataframe tbody tr th:only-of-type {\n",
              "        vertical-align: middle;\n",
              "    }\n",
              "\n",
              "    .dataframe tbody tr th {\n",
              "        vertical-align: top;\n",
              "    }\n",
              "\n",
              "    .dataframe thead th {\n",
              "        text-align: right;\n",
              "    }\n",
              "</style>\n",
              "<table border=\"1\" class=\"dataframe\">\n",
              "  <thead>\n",
              "    <tr style=\"text-align: right;\">\n",
              "      <th></th>\n",
              "      <th>Movement</th>\n",
              "      <th>Location</th>\n",
              "      <th>Community</th>\n",
              "      <th>Year</th>\n",
              "      <th>People</th>\n",
              "    </tr>\n",
              "  </thead>\n",
              "  <tbody>\n",
              "    <tr>\n",
              "      <th>0</th>\n",
              "      <td>0</td>\n",
              "      <td>Dandu</td>\n",
              "      <td>Borana</td>\n",
              "      <td>1996</td>\n",
              "      <td>9256.0</td>\n",
              "    </tr>\n",
              "    <tr>\n",
              "      <th>1</th>\n",
              "      <td>0</td>\n",
              "      <td>Dandu</td>\n",
              "      <td>Multi</td>\n",
              "      <td>1996</td>\n",
              "      <td>4527.0</td>\n",
              "    </tr>\n",
              "    <tr>\n",
              "      <th>2</th>\n",
              "      <td>0</td>\n",
              "      <td>Dandu</td>\n",
              "      <td>Samburu</td>\n",
              "      <td>1996</td>\n",
              "      <td>17853.0</td>\n",
              "    </tr>\n",
              "    <tr>\n",
              "      <th>3</th>\n",
              "      <td>0</td>\n",
              "      <td>Gither</td>\n",
              "      <td>Borana</td>\n",
              "      <td>1996</td>\n",
              "      <td>0.0</td>\n",
              "    </tr>\n",
              "    <tr>\n",
              "      <th>4</th>\n",
              "      <td>0</td>\n",
              "      <td>Gither</td>\n",
              "      <td>Multi</td>\n",
              "      <td>1996</td>\n",
              "      <td>0.0</td>\n",
              "    </tr>\n",
              "  </tbody>\n",
              "</table>\n",
              "</div>\n",
              "      <button class=\"colab-df-convert\" onclick=\"convertToInteractive('df-e4b70e65-aabb-40ea-a2b9-b9e0cd407fe9')\"\n",
              "              title=\"Convert this dataframe to an interactive table.\"\n",
              "              style=\"display:none;\">\n",
              "        \n",
              "  <svg xmlns=\"http://www.w3.org/2000/svg\" height=\"24px\"viewBox=\"0 0 24 24\"\n",
              "       width=\"24px\">\n",
              "    <path d=\"M0 0h24v24H0V0z\" fill=\"none\"/>\n",
              "    <path d=\"M18.56 5.44l.94 2.06.94-2.06 2.06-.94-2.06-.94-.94-2.06-.94 2.06-2.06.94zm-11 1L8.5 8.5l.94-2.06 2.06-.94-2.06-.94L8.5 2.5l-.94 2.06-2.06.94zm10 10l.94 2.06.94-2.06 2.06-.94-2.06-.94-.94-2.06-.94 2.06-2.06.94z\"/><path d=\"M17.41 7.96l-1.37-1.37c-.4-.4-.92-.59-1.43-.59-.52 0-1.04.2-1.43.59L10.3 9.45l-7.72 7.72c-.78.78-.78 2.05 0 2.83L4 21.41c.39.39.9.59 1.41.59.51 0 1.02-.2 1.41-.59l7.78-7.78 2.81-2.81c.8-.78.8-2.07 0-2.86zM5.41 20L4 18.59l7.72-7.72 1.47 1.35L5.41 20z\"/>\n",
              "  </svg>\n",
              "      </button>\n",
              "      \n",
              "  <style>\n",
              "    .colab-df-container {\n",
              "      display:flex;\n",
              "      flex-wrap:wrap;\n",
              "      gap: 12px;\n",
              "    }\n",
              "\n",
              "    .colab-df-convert {\n",
              "      background-color: #E8F0FE;\n",
              "      border: none;\n",
              "      border-radius: 50%;\n",
              "      cursor: pointer;\n",
              "      display: none;\n",
              "      fill: #1967D2;\n",
              "      height: 32px;\n",
              "      padding: 0 0 0 0;\n",
              "      width: 32px;\n",
              "    }\n",
              "\n",
              "    .colab-df-convert:hover {\n",
              "      background-color: #E2EBFA;\n",
              "      box-shadow: 0px 1px 2px rgba(60, 64, 67, 0.3), 0px 1px 3px 1px rgba(60, 64, 67, 0.15);\n",
              "      fill: #174EA6;\n",
              "    }\n",
              "\n",
              "    [theme=dark] .colab-df-convert {\n",
              "      background-color: #3B4455;\n",
              "      fill: #D2E3FC;\n",
              "    }\n",
              "\n",
              "    [theme=dark] .colab-df-convert:hover {\n",
              "      background-color: #434B5C;\n",
              "      box-shadow: 0px 1px 3px 1px rgba(0, 0, 0, 0.15);\n",
              "      filter: drop-shadow(0px 1px 2px rgba(0, 0, 0, 0.3));\n",
              "      fill: #FFFFFF;\n",
              "    }\n",
              "  </style>\n",
              "\n",
              "      <script>\n",
              "        const buttonEl =\n",
              "          document.querySelector('#df-e4b70e65-aabb-40ea-a2b9-b9e0cd407fe9 button.colab-df-convert');\n",
              "        buttonEl.style.display =\n",
              "          google.colab.kernel.accessAllowed ? 'block' : 'none';\n",
              "\n",
              "        async function convertToInteractive(key) {\n",
              "          const element = document.querySelector('#df-e4b70e65-aabb-40ea-a2b9-b9e0cd407fe9');\n",
              "          const dataTable =\n",
              "            await google.colab.kernel.invokeFunction('convertToInteractive',\n",
              "                                                     [key], {});\n",
              "          if (!dataTable) return;\n",
              "\n",
              "          const docLinkHtml = 'Like what you see? Visit the ' +\n",
              "            '<a target=\"_blank\" href=https://colab.research.google.com/notebooks/data_table.ipynb>data table notebook</a>'\n",
              "            + ' to learn more about interactive tables.';\n",
              "          element.innerHTML = '';\n",
              "          dataTable['output_type'] = 'display_data';\n",
              "          await google.colab.output.renderOutput(dataTable, element);\n",
              "          const docLink = document.createElement('div');\n",
              "          docLink.innerHTML = docLinkHtml;\n",
              "          element.appendChild(docLink);\n",
              "        }\n",
              "      </script>\n",
              "    </div>\n",
              "  </div>\n",
              "  "
            ]
          },
          "metadata": {},
          "execution_count": 46
        }
      ]
    },
    {
      "cell_type": "markdown",
      "source": [
        "Check for unique values in Community Column"
      ],
      "metadata": {
        "id": "H-WkRqejcLzb"
      }
    },
    {
      "cell_type": "code",
      "source": [
        "df['Community'].nunique()"
      ],
      "metadata": {
        "colab": {
          "base_uri": "https://localhost:8080/"
        },
        "id": "8Xf4Pz2HjVRB",
        "outputId": "ef2787c4-df5d-4275-ace6-6b5e0df0d5cd"
      },
      "execution_count": 47,
      "outputs": [
        {
          "output_type": "execute_result",
          "data": {
            "text/plain": [
              "3"
            ]
          },
          "metadata": {},
          "execution_count": 47
        }
      ]
    },
    {
      "cell_type": "code",
      "source": [
        "df['Community'].unique()"
      ],
      "metadata": {
        "colab": {
          "base_uri": "https://localhost:8080/"
        },
        "id": "ZfLtTp6bpMGS",
        "outputId": "d47e038f-a1df-420e-850a-cd6d1ecb5845"
      },
      "execution_count": 48,
      "outputs": [
        {
          "output_type": "execute_result",
          "data": {
            "text/plain": [
              "array(['Borana', 'Multi', 'Samburu'], dtype=object)"
            ]
          },
          "metadata": {},
          "execution_count": 48
        }
      ]
    },
    {
      "cell_type": "markdown",
      "source": [
        "Check for unique values in Location Column"
      ],
      "metadata": {
        "id": "PtlAsVoQcWFs"
      }
    },
    {
      "cell_type": "code",
      "source": [
        "df['Location'].nunique()"
      ],
      "metadata": {
        "colab": {
          "base_uri": "https://localhost:8080/"
        },
        "id": "koH_y2BEgfXI",
        "outputId": "a9e27b43-d205-4dea-ac5f-3bdc70b3d0e7"
      },
      "execution_count": 49,
      "outputs": [
        {
          "output_type": "execute_result",
          "data": {
            "text/plain": [
              "250"
            ]
          },
          "metadata": {},
          "execution_count": 49
        }
      ]
    },
    {
      "cell_type": "code",
      "source": [
        "df['Location'].unique()"
      ],
      "metadata": {
        "colab": {
          "base_uri": "https://localhost:8080/"
        },
        "id": "UingQLM9gXDt",
        "outputId": "07f05207-116d-4246-8dad-7e53a50719ec"
      },
      "execution_count": 50,
      "outputs": [
        {
          "output_type": "execute_result",
          "data": {
            "text/plain": [
              "array(['Dandu', 'Gither', 'Bannisa', 'Derkhale', 'Guba', 'Kiliwehiri',\n",
              "       'Malkamari', 'Ashabito', 'Guticha', 'Morothile', 'Rhamu',\n",
              "       'Rhamu-Dimtu', 'Wargadud', 'Kutulo', 'Elwak South', 'Elwak North',\n",
              "       'Shimbir Fatuma', 'Arabia', 'Township', 'Neboi', 'Khalalio',\n",
              "       'Libehia', 'Sala', 'Fino', 'Lafey', 'Waranqara', 'Alango Gof',\n",
              "       'Butiye', 'Sololo', 'Heillu/Manyatta', 'Golbo', 'Obbu',\n",
              "       'DLokoriana', 'Maikona', 'Turbi', 'North Horr', 'Illeret',\n",
              "       'Sagante', 'Karare', 'Marsabit Central', 'Loiyangalani',\n",
              "       'South Horr', 'Korr', 'Logo Logo', 'Laisamis', 'Wabera',\n",
              "       'Bulla Pesa', 'Chari', 'Cherab', 'Ngare Mara', 'Burat',\n",
              "       'Oldo-Nyiro', 'Garbatulla', 'Kinna', 'Sericho', 'Kamburu', 'Lari',\n",
              "       'Kaeris', 'Lake Zone', 'Lapur', 'Kaaleng', 'Kibish', 'Nakalale',\n",
              "       'Lopur', 'Kakuma', 'Letea', 'Songot', 'Kalobeyei', 'Lokichogio',\n",
              "       'Nanaam', 'Kerio Delta', 'Kalokol', \"Kang'atotha\", 'Lodwar',\n",
              "       'Kanamkemer', 'Kotakur', 'Turkawel', 'Lokiriama', 'Loima',\n",
              "       'Kaputir', 'Katilu', 'Lobokat', 'Kalapata', 'Lokichar', 'Kapedo',\n",
              "       'Katilia', 'Lokori', 'Riwo', 'Kapenguria', 'Mnagei', 'Siyoi',\n",
              "       'Endugh', 'Sook', 'Sekerr', 'Masool', 'Lomut', 'Weiwei', 'Suam',\n",
              "       'Kodich', 'Kasei', 'Kapchok', 'Kiwawa', 'Alale', 'Lelan', 'Batei',\n",
              "       'Chapareria', 'Tapach', 'Lodokejek', 'Suguta Marmar', 'Maralal',\n",
              "       'Loosuk', 'Poro', 'El-Barta', 'Nachola', 'Ndoto', 'Nyiro',\n",
              "       'Angata Nanyokie', 'Baawa', 'Waso', 'Wamba West', 'Wamba East',\n",
              "       'Wamba North', 'Githiga', 'Marmanet', 'Igwamiti', 'Salama',\n",
              "       'Ngobit', 'Tigithi', 'Thingithu', 'Nanyuki', 'Umande', 'Sosian',\n",
              "       'Segera', 'Mugogodo East', 'Mugododo West', 'Keyian',\n",
              "       'Angata Barikoi', 'Shankoe', 'Kimintet', 'Lolgorian', 'Oloimasani',\n",
              "       'Ilkerin', 'Mogondo', 'Kapsasian', 'Olpusimoru', 'Olokurto',\n",
              "       'Narok town', 'Nkareta', 'Olorropil', 'Melili', 'Mosiro',\n",
              "       'Ildamat', 'Keekonyokie', 'Suswa', 'Majimoto', \"Ololulung'a\",\n",
              "       'Melelo', 'Loita', 'Sogoo', 'Sagamian', 'Ilmotiok', 'Mara',\n",
              "       'Siana', 'Naikarra', 'Olkeri', 'Ongota Rongai', 'Nkaimurunya',\n",
              "       'Oloolua', 'Ngong', 'Purko', 'Dalalekutuk', 'Matapato North',\n",
              "       'Matapato South', 'Kaputiei North', 'Kitengela', 'Oloosirkon',\n",
              "       'Nabiswawa-Poka', 'Imaroro', 'Iloodokilani', 'Magadi',\n",
              "       \"Ewuaso Oonkidong'i\", 'Entonet', 'Mbirikani', 'Kuku', 'Rombo',\n",
              "       'Kimana', 'Londiani', 'Kapomboi', 'Kwanza', 'Keiyo', 'Bidii',\n",
              "       'Chepchoina', 'Endebess', 'Matumbei', 'Kinyoro', 'Matisi',\n",
              "       'Tuwani', 'Saboti', 'Machewa', 'Kiminini', 'Waitaluk', 'Sirende',\n",
              "       'Hospital', 'Sikhendu', 'Nabiswa', 'Sinyerere', 'Makutano',\n",
              "       'Kaplami', 'Motosiet', 'Cherangany', 'Chepsiro', 'Sitatunga',\n",
              "       \"Moi's Bridge\", 'Kapkures', 'Ziwa', 'Segero', 'Kipsomba', 'Soy',\n",
              "       'Kuinet', 'Ngenyilel', 'Tapsagoi', 'Kamagut', 'Kiplombe',\n",
              "       'Kapsaos', 'Huruma', 'Tembelio', 'Sergoit', 'Karuna', 'Moiben',\n",
              "       'Kimumu', 'Sierra Leone', 'Kaptagat', 'Ainabkoi', 'Simat',\n",
              "       'Kipkenyo', 'Ngeria', 'Megun', 'Langas', 'Racecourse', 'Cheptiret',\n",
              "       'Tulwet', 'Tarakwa', 'Kapyego', 'Sambirir', 'Endo', 'Embobut',\n",
              "       'Sengwer', 'Arror', 'Not stated', 'Kamariny'], dtype=object)"
            ]
          },
          "metadata": {},
          "execution_count": 50
        }
      ]
    },
    {
      "cell_type": "markdown",
      "source": [
        "There are 250 unique locations. We will replace each of the unique string values in the Location column with an integer value. We will use the Pandas factorize method to transform the data from text to numbers."
      ],
      "metadata": {
        "id": "s5tlJvMXck8v"
      }
    },
    {
      "cell_type": "code",
      "source": [
        "df['Location'] = pd.factorize(df.Location)[0]"
      ],
      "metadata": {
        "id": "ld4KdBbmmtYK"
      },
      "execution_count": 51,
      "outputs": []
    },
    {
      "cell_type": "code",
      "source": [
        "df['Location'].unique()"
      ],
      "metadata": {
        "colab": {
          "base_uri": "https://localhost:8080/"
        },
        "id": "vsiWvzsopWhg",
        "outputId": "21008f60-f744-420a-899e-f796e9517088"
      },
      "execution_count": 52,
      "outputs": [
        {
          "output_type": "execute_result",
          "data": {
            "text/plain": [
              "array([  0,   1,   2,   3,   4,   5,   6,   7,   8,   9,  10,  11,  12,\n",
              "        13,  14,  15,  16,  17,  18,  19,  20,  21,  22,  23,  24,  25,\n",
              "        26,  27,  28,  29,  30,  31,  32,  33,  34,  35,  36,  37,  38,\n",
              "        39,  40,  41,  42,  43,  44,  45,  46,  47,  48,  49,  50,  51,\n",
              "        52,  53,  54,  55,  56,  57,  58,  59,  60,  61,  62,  63,  64,\n",
              "        65,  66,  67,  68,  69,  70,  71,  72,  73,  74,  75,  76,  77,\n",
              "        78,  79,  80,  81,  82,  83,  84,  85,  86,  87,  88,  89,  90,\n",
              "        91,  92,  93,  94,  95,  96,  97,  98,  99, 100, 101, 102, 103,\n",
              "       104, 105, 106, 107, 108, 109, 110, 111, 112, 113, 114, 115, 116,\n",
              "       117, 118, 119, 120, 121, 122, 123, 124, 125, 126, 127, 128, 129,\n",
              "       130, 131, 132, 133, 134, 135, 136, 137, 138, 139, 140, 141, 142,\n",
              "       143, 144, 145, 146, 147, 148, 149, 150, 151, 152, 153, 154, 155,\n",
              "       156, 157, 158, 159, 160, 161, 162, 163, 164, 165, 166, 167, 168,\n",
              "       169, 170, 171, 172, 173, 174, 175, 176, 177, 178, 179, 180, 181,\n",
              "       182, 183, 184, 185, 186, 187, 188, 189, 190, 191, 192, 193, 194,\n",
              "       195, 196, 197, 198, 199, 200, 201, 202, 203, 204, 205, 206, 207,\n",
              "       208, 209, 210, 211, 212, 213, 214, 215, 216, 217, 218, 219, 220,\n",
              "       221, 222, 223, 224, 225, 226, 227, 228, 229, 230, 231, 232, 233,\n",
              "       234, 235, 236, 237, 238, 239, 240, 241, 242, 243, 244, 245, 246,\n",
              "       247, 248, 249])"
            ]
          },
          "metadata": {},
          "execution_count": 52
        }
      ]
    },
    {
      "cell_type": "code",
      "source": [
        "df['Community'].unique()"
      ],
      "metadata": {
        "colab": {
          "base_uri": "https://localhost:8080/"
        },
        "id": "3sNQAiwZja76",
        "outputId": "6b094d70-6a5c-451c-e799-9946357665a0"
      },
      "execution_count": 53,
      "outputs": [
        {
          "output_type": "execute_result",
          "data": {
            "text/plain": [
              "array(['Borana', 'Multi', 'Samburu'], dtype=object)"
            ]
          },
          "metadata": {},
          "execution_count": 53
        }
      ]
    },
    {
      "cell_type": "markdown",
      "source": [
        "There are 3 unique communities. We will replace each of the unique string values in the Community column with an integer value. Borana will have a value of 0, Samburu will have a value of 1, and Multi will have a value of 2."
      ],
      "metadata": {
        "id": "IB2lm9vwdr20"
      }
    },
    {
      "cell_type": "code",
      "source": [
        "df['Community'].replace('Borana',0,inplace=True)\n",
        "df['Community'].replace('Samburu',1,inplace=True)\n",
        "df['Community'].replace('Multi',2,inplace=True)"
      ],
      "metadata": {
        "id": "eLJFP07LjoqO"
      },
      "execution_count": 54,
      "outputs": []
    },
    {
      "cell_type": "code",
      "source": [
        "df.head(5)"
      ],
      "metadata": {
        "colab": {
          "base_uri": "https://localhost:8080/",
          "height": 206
        },
        "id": "s5Zw6raclBjm",
        "outputId": "f5d0e38d-bb92-4df4-ab2f-7105f2e22df6"
      },
      "execution_count": 55,
      "outputs": [
        {
          "output_type": "execute_result",
          "data": {
            "text/plain": [
              "   Movement  Location  Community  Year   People\n",
              "0         0         0          0  1996   9256.0\n",
              "1         0         0          2  1996   4527.0\n",
              "2         0         0          1  1996  17853.0\n",
              "3         0         1          0  1996      0.0\n",
              "4         0         1          2  1996      0.0"
            ],
            "text/html": [
              "\n",
              "  <div id=\"df-ca4826bb-be5b-49f1-99a9-6854165b1908\">\n",
              "    <div class=\"colab-df-container\">\n",
              "      <div>\n",
              "<style scoped>\n",
              "    .dataframe tbody tr th:only-of-type {\n",
              "        vertical-align: middle;\n",
              "    }\n",
              "\n",
              "    .dataframe tbody tr th {\n",
              "        vertical-align: top;\n",
              "    }\n",
              "\n",
              "    .dataframe thead th {\n",
              "        text-align: right;\n",
              "    }\n",
              "</style>\n",
              "<table border=\"1\" class=\"dataframe\">\n",
              "  <thead>\n",
              "    <tr style=\"text-align: right;\">\n",
              "      <th></th>\n",
              "      <th>Movement</th>\n",
              "      <th>Location</th>\n",
              "      <th>Community</th>\n",
              "      <th>Year</th>\n",
              "      <th>People</th>\n",
              "    </tr>\n",
              "  </thead>\n",
              "  <tbody>\n",
              "    <tr>\n",
              "      <th>0</th>\n",
              "      <td>0</td>\n",
              "      <td>0</td>\n",
              "      <td>0</td>\n",
              "      <td>1996</td>\n",
              "      <td>9256.0</td>\n",
              "    </tr>\n",
              "    <tr>\n",
              "      <th>1</th>\n",
              "      <td>0</td>\n",
              "      <td>0</td>\n",
              "      <td>2</td>\n",
              "      <td>1996</td>\n",
              "      <td>4527.0</td>\n",
              "    </tr>\n",
              "    <tr>\n",
              "      <th>2</th>\n",
              "      <td>0</td>\n",
              "      <td>0</td>\n",
              "      <td>1</td>\n",
              "      <td>1996</td>\n",
              "      <td>17853.0</td>\n",
              "    </tr>\n",
              "    <tr>\n",
              "      <th>3</th>\n",
              "      <td>0</td>\n",
              "      <td>1</td>\n",
              "      <td>0</td>\n",
              "      <td>1996</td>\n",
              "      <td>0.0</td>\n",
              "    </tr>\n",
              "    <tr>\n",
              "      <th>4</th>\n",
              "      <td>0</td>\n",
              "      <td>1</td>\n",
              "      <td>2</td>\n",
              "      <td>1996</td>\n",
              "      <td>0.0</td>\n",
              "    </tr>\n",
              "  </tbody>\n",
              "</table>\n",
              "</div>\n",
              "      <button class=\"colab-df-convert\" onclick=\"convertToInteractive('df-ca4826bb-be5b-49f1-99a9-6854165b1908')\"\n",
              "              title=\"Convert this dataframe to an interactive table.\"\n",
              "              style=\"display:none;\">\n",
              "        \n",
              "  <svg xmlns=\"http://www.w3.org/2000/svg\" height=\"24px\"viewBox=\"0 0 24 24\"\n",
              "       width=\"24px\">\n",
              "    <path d=\"M0 0h24v24H0V0z\" fill=\"none\"/>\n",
              "    <path d=\"M18.56 5.44l.94 2.06.94-2.06 2.06-.94-2.06-.94-.94-2.06-.94 2.06-2.06.94zm-11 1L8.5 8.5l.94-2.06 2.06-.94-2.06-.94L8.5 2.5l-.94 2.06-2.06.94zm10 10l.94 2.06.94-2.06 2.06-.94-2.06-.94-.94-2.06-.94 2.06-2.06.94z\"/><path d=\"M17.41 7.96l-1.37-1.37c-.4-.4-.92-.59-1.43-.59-.52 0-1.04.2-1.43.59L10.3 9.45l-7.72 7.72c-.78.78-.78 2.05 0 2.83L4 21.41c.39.39.9.59 1.41.59.51 0 1.02-.2 1.41-.59l7.78-7.78 2.81-2.81c.8-.78.8-2.07 0-2.86zM5.41 20L4 18.59l7.72-7.72 1.47 1.35L5.41 20z\"/>\n",
              "  </svg>\n",
              "      </button>\n",
              "      \n",
              "  <style>\n",
              "    .colab-df-container {\n",
              "      display:flex;\n",
              "      flex-wrap:wrap;\n",
              "      gap: 12px;\n",
              "    }\n",
              "\n",
              "    .colab-df-convert {\n",
              "      background-color: #E8F0FE;\n",
              "      border: none;\n",
              "      border-radius: 50%;\n",
              "      cursor: pointer;\n",
              "      display: none;\n",
              "      fill: #1967D2;\n",
              "      height: 32px;\n",
              "      padding: 0 0 0 0;\n",
              "      width: 32px;\n",
              "    }\n",
              "\n",
              "    .colab-df-convert:hover {\n",
              "      background-color: #E2EBFA;\n",
              "      box-shadow: 0px 1px 2px rgba(60, 64, 67, 0.3), 0px 1px 3px 1px rgba(60, 64, 67, 0.15);\n",
              "      fill: #174EA6;\n",
              "    }\n",
              "\n",
              "    [theme=dark] .colab-df-convert {\n",
              "      background-color: #3B4455;\n",
              "      fill: #D2E3FC;\n",
              "    }\n",
              "\n",
              "    [theme=dark] .colab-df-convert:hover {\n",
              "      background-color: #434B5C;\n",
              "      box-shadow: 0px 1px 3px 1px rgba(0, 0, 0, 0.15);\n",
              "      filter: drop-shadow(0px 1px 2px rgba(0, 0, 0, 0.3));\n",
              "      fill: #FFFFFF;\n",
              "    }\n",
              "  </style>\n",
              "\n",
              "      <script>\n",
              "        const buttonEl =\n",
              "          document.querySelector('#df-ca4826bb-be5b-49f1-99a9-6854165b1908 button.colab-df-convert');\n",
              "        buttonEl.style.display =\n",
              "          google.colab.kernel.accessAllowed ? 'block' : 'none';\n",
              "\n",
              "        async function convertToInteractive(key) {\n",
              "          const element = document.querySelector('#df-ca4826bb-be5b-49f1-99a9-6854165b1908');\n",
              "          const dataTable =\n",
              "            await google.colab.kernel.invokeFunction('convertToInteractive',\n",
              "                                                     [key], {});\n",
              "          if (!dataTable) return;\n",
              "\n",
              "          const docLinkHtml = 'Like what you see? Visit the ' +\n",
              "            '<a target=\"_blank\" href=https://colab.research.google.com/notebooks/data_table.ipynb>data table notebook</a>'\n",
              "            + ' to learn more about interactive tables.';\n",
              "          element.innerHTML = '';\n",
              "          dataTable['output_type'] = 'display_data';\n",
              "          await google.colab.output.renderOutput(dataTable, element);\n",
              "          const docLink = document.createElement('div');\n",
              "          docLink.innerHTML = docLinkHtml;\n",
              "          element.appendChild(docLink);\n",
              "        }\n",
              "      </script>\n",
              "    </div>\n",
              "  </div>\n",
              "  "
            ]
          },
          "metadata": {},
          "execution_count": 55
        }
      ]
    },
    {
      "cell_type": "markdown",
      "source": [
        "### **Visualization**"
      ],
      "metadata": {
        "id": "u7RpRq2jd_ko"
      }
    },
    {
      "cell_type": "code",
      "source": [
        "# Visualize number of migrations by year in a line graph.\n",
        "grouped = df.groupby(['Year']).aggregate({'People' : 'sum'}).reset_index()\n",
        "grouped = grouped.astype(int)\n",
        "plt.figure(figsize=(9,5))\n",
        "plt.plot(grouped['Year'], grouped['People'], color='darkblue',  marker='o')\n",
        "plt.ticklabel_format(style='plain')\n",
        "plt.xlabel('Year', fontsize=12)\n",
        "plt.ylabel('People', fontsize=12)\n",
        "plt.title('People by Year', fontsize=15)\n",
        "plt.grid()\n",
        "plt.show()"
      ],
      "metadata": {
        "colab": {
          "base_uri": "https://localhost:8080/",
          "height": 355
        },
        "id": "_oVLtzNgnGWF",
        "outputId": "73b8f41b-f9b9-4c57-e831-5bc86af9ef13"
      },
      "execution_count": 61,
      "outputs": [
        {
          "output_type": "display_data",
          "data": {
            "text/plain": [
              "<Figure size 648x360 with 1 Axes>"
            ],
            "image/png": "[encoded data removed]"
          },
          "metadata": {
            "needs_background": "light"
          }
        }
      ]
    },
    {
      "cell_type": "markdown",
      "source": [
        "From our data we can see that there is a gradual increase in migration. Some drops could be cause by favourable weather conditions like increased rainfall thus reducing the number of people who have to migrate in search of pasture. There could also be a decrease in rainfall and pasture in our area of study causing the movement in the area to decrease. Futher investigation will be required to determine the actual reason"
      ],
      "metadata": {
        "id": "JCjQm782aGwa"
      }
    },
    {
      "cell_type": "code",
      "source": [
        "\n",
        "plt.figure(figsize=(9,5))\n",
        "plt.ticklabel_format(style='plain')\n",
        "ax = sns.barplot(grouped['Year'], grouped['People'],color='darkblue')\n",
        "ax.set_xticklabels(ax.get_xticklabels(), rotation = 90, size = 10)\n",
        "plt.xlabel('Year', fontsize = 12)\n",
        "plt.ylabel('People', fontsize = 12)\n",
        "plt.title('People by Year', fontsize =15);"
      ],
      "metadata": {
        "colab": {
          "base_uri": "https://localhost:8080/",
          "height": 370
        },
        "id": "y-TcY26onOck",
        "outputId": "84ad20bd-1d4f-4072-ccd3-c1ff48cd1779"
      },
      "execution_count": 64,
      "outputs": [
        {
          "output_type": "display_data",
          "data": {
            "text/plain": [
              "<Figure size 648x360 with 1 Axes>"
            ],
            "image/png": "[encoded data removed]"
          },
          "metadata": {
            "needs_background": "light"
          }
        }
      ]
    },
    {
      "cell_type": "markdown",
      "source": [
        "From our graph we can see that 2007-2008 has among the highest record movement. During those years, Kenya experienced its biggest civilian unrest caused by disputed elections that led to post-election violence. Over 250,000 Kenyans were displaced and more than 1,000 killed. During this period, the selected area experienced a lot of activity. This means that the pastrolists communities were also greatly affected"
      ],
      "metadata": {
        "id": "Fyy-4JhSesbj"
      }
    },
    {
      "cell_type": "code",
      "source": [
        "# We will use the Pearson Correlation method.\n",
        "plt.figure(figsize=(9,5))\n",
        "corr = df.corr()\n",
        "sns.heatmap(corr, annot = True, cmap = 'Blues')"
      ],
      "metadata": {
        "colab": {
          "base_uri": "https://localhost:8080/",
          "height": 341
        },
        "id": "gXCJPib6kDHy",
        "outputId": "428f2847-2875-4195-a6e2-2cc39268bbed"
      },
      "execution_count": 56,
      "outputs": [
        {
          "output_type": "execute_result",
          "data": {
            "text/plain": [
              "<matplotlib.axes._subplots.AxesSubplot at 0x7f3451a1bad0>"
            ]
          },
          "metadata": {},
          "execution_count": 56
        },
        {
          "output_type": "display_data",
          "data": {
            "text/plain": [
              "<Figure size 648x360 with 2 Axes>"
            ],
            "image/png": "[encoded data removed]"
          },
          "metadata": {
            "needs_background": "light"
          }
        }
      ]
    },
    {
      "cell_type": "markdown",
      "source": [
        "We will use Movement, Location, Community and Year as the feature variables. We will use People as the target variable."
      ],
      "metadata": {
        "id": "VQCxEcr3gFJv"
      }
    },
    {
      "cell_type": "code",
      "source": [
        "x_data = df[['Location','Movement','Year','Community']]\n",
        "y_data = df['People']"
      ],
      "metadata": {
        "id": "sjK_pWbhkTjI"
      },
      "execution_count": 57,
      "outputs": []
    },
    {
      "cell_type": "markdown",
      "source": [
        "Use the train test split function to generate training data and test data. Test data set is 30% of original data set."
      ],
      "metadata": {
        "id": "RGXvoDWOgQ9Q"
      }
    },
    {
      "cell_type": "code",
      "source": [
        "x_training_data, x_test_data, y_training_data, y_test_data = train_test_split(x_data, y_data, test_size = 0.30, random_state=9)"
      ],
      "metadata": {
        "id": "v09fyVIalmN4"
      },
      "execution_count": 58,
      "outputs": []
    },
    {
      "cell_type": "markdown",
      "source": [
        "Train, Predict and Evaluate the Performance of the Random Forrest Regressor model."
      ],
      "metadata": {
        "id": "iGtAl_FAgWF0"
      }
    },
    {
      "cell_type": "code",
      "source": [
        "model_rf = RandomForestRegressor(n_estimators = 70, max_features = 3,max_depth=5,n_jobs=-1)\n",
        "model_rf.fit(x_training_data, y_training_data)\n",
        "predictions_rf = model_rf.predict(x_test_data)"
      ],
      "metadata": {
        "id": "2vSg0XL8l9tF"
      },
      "execution_count": 59,
      "outputs": []
    },
    {
      "cell_type": "markdown",
      "source": [
        "Calculate the accuracy score."
      ],
      "metadata": {
        "id": "MQDObkLLgY2p"
      }
    },
    {
      "cell_type": "code",
      "source": [
        "model_rf.score(x_test_data,y_test_data)"
      ],
      "metadata": {
        "colab": {
          "base_uri": "https://localhost:8080/"
        },
        "id": "d1gek6smmix8",
        "outputId": "1d9a4c88-bf0c-40e9-d63a-92687a02b38f"
      },
      "execution_count": 60,
      "outputs": [
        {
          "output_type": "execute_result",
          "data": {
            "text/plain": [
              "0.7703733906744014"
            ]
          },
          "metadata": {},
          "execution_count": 60
        }
      ]
    },
    {
      "cell_type": "markdown",
      "source": [
        "Conclusion: \n",
        "\n",
        "> - The Random Forest Regressor model correctly predicted 77% of the migrations. In general, there is a moderate increase in the number of migrations over the time period.\n",
        "\n",
        "\n",
        "> - The models accuracy score may be improved by having a larger dataset with more features and by tuning some of the models hyper parameters.\n",
        "\n",
        "\n"
      ],
      "metadata": {
        "id": "L0JfBR0tPNdK"
      }
    },
    {
      "cell_type": "markdown",
      "source": [
        "## **Opportunities**\n",
        "This study and model opens opportunies for further research:\n",
        "1. Breaking down the selected area into smaller areas, we can create a model that predicts the location that the pastrolists will migrate to depending on certain features.\n",
        "2. Further research into why some years saw a drop in migration numbers, while others saw an increase could help predict future years when there is going to be a likely spike in the numbers( Early detection systems)"
      ],
      "metadata": {
        "id": "bchBG0TTg7tu"
      }
    },
    {
      "cell_type": "markdown",
      "source": [
        "## **Signing off:**\n",
        "\n",
        "These research and model were done by:\n",
        "\n",
        "**Boaz Leleina**\n",
        "\n",
        "![signature.PNG](data:image/png;base64,iVBORw0KGgoAAAANSUhEUgAAAJgAAABJCAYAAADBoO+rAAAAAXNSR0IArs4c6QAAAARnQU1BAACxjwv8YQUAAAAJcEhZcwAADsMAAA7DAcdvqGQAAASaSURBVHhe7ZuhUuxMEIVRFAKBxFDFI+BAIpFIJFUYJG+ARCKRPAKFQiKRSCQSiUTm1tk/vX9n6MlMdqeTWXK+qlMXdnqT3JmTnp5k2GoIcYQGI67QYMQVGoy4QoMRV2gw4goNRlyhwYgrNBhxhQYjrtBgxBUajLhCgxFXaDDiCg1GXKHBiCs0GHGFBiOu0GDEFRqMuEKDEVdoMOLKRhns8fGxOTw8bLa2tpbC7w8PD20EqY2NMdjt7W3HWKGur6+br6+vNprUwkYYLGWuUMhqd3d37bfJlFRvsNBcZ2dnzc/Pz6IN/56fn3fatd7f3xdxZDqqNljMXC8vL79qMUunp6dFp02rBoRYB8ap1mAYMD2IOnPt7+932rS2t7c7v+/s7BSZLnOmaU7Lv6nSYMg6MIYMnDYX0IOaIxxrHXJrwHXP8xep0mA3NzfLQTs6OuqYC+bTg3p1dbX4HNlDf358fNwx6ar0ZVKAn3U76VJdj3x+fnaM8fT01Lb8hzafSEBRrz8X0+ERxqro6Tg0lyDtEOlSXY+cnJwsBws/h1j1lyZsiwmFOYr2FPo7lrmAjiFdquoRPc0hi318fLQt/6MHU6Sx2mPCOfpMFk6PMXJi5ko1PRIW9rEVmR5MkcZq7xPOaRFez8XFRdvyG3080qWaHgkL+xh6MEXC9/e3+XlIuCCw6FtoaMJFB+lSRY+E2SIs7DV6MFPqIxWna72+68m9MeZKFQYbMkgSlxJWfH3oWItUu5BrxLkyucGGZC8gcSmldlfoWItUu5AbN1cm75WhU4we0BzFHkfoGItUu5AbN1cm75WhU4weUJGAQtzaXWGtFHW7RapdyI2bK5P3ytAB0vGiMEPBqMiGOiakrw2k2oXcuLkyea8MHSAdL7IyFEymY0L62kCqHeQ+Fpkzk/fK0AHS8VqotVDPIZsdHByYMTFZpNph4L29vWRcCpgUuzWsfWaWNm3v2UYbTC8Q1pH11kC3W4TvRGOPRWKbI+WGCE2aq9ibjtoobrDc3aaWcl4+60caz8/Pze7ubucYq2joIiCcGmPXjc9XNVBK1jXXSFGDwVxeHfrXlXNzhVlzEyh6latmrrkLxkFdZe0e0ejvrLPHbUyKGky/RM7tAN1p1OqSmq7v7cUUTJ5ndSeVQNdoOcLAWKsyHRMuJmI7WwUdK3HYbVtqUbKuxjTjnzNYuBWntFLmAjpeE/vjkcvLy8UbiLHrV9yMmGleX1/bKyxPVQYrdUd5mSzHXEB/Rwh3x+pMi4wSPnZAxrMehcTOb729GCKc6/7+vj1aOSY32NAprYTkmRUGC9nDismVNcXq/xOyFh5raLPg/G9vb8vfRcgmOF74OYQdtTnmzqHPjKWZ3GBj1yW5WQggDvHWccaU3BAlsZ7ReZxncoOBddN7rlbJAiWy3CpCxvOoj9DXVpYsmSE1VRhsUxnDfCVXfDiGVZJ4PlOjwSphrCyu5ZW1NDRYZYxlNJxnDGiwyvEwnEcxH4MGI67QYMQVGoy4QoMRV2gw4goNRlyhwYgrNBhxhQYjrtBgxBUajLhCgxFXaDDiCg1GXKHBiCNN8w/4YVBqcw+eGQAAAABJRU5ErkJggg==)"
      ],
      "metadata": {
        "id": "wxOSAYW7h8eo"
      }
    }
  ]
}